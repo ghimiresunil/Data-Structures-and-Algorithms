{
 "cells": [
  {
   "cell_type": "code",
   "execution_count": 1,
   "id": "67fb51d6",
   "metadata": {},
   "outputs": [
    {
     "name": "stdout",
     "output_type": "stream",
     "text": [
      "Testing 01 -> 1\n",
      "Testing 02 -> 3\n",
      "Testing 03 -> 4\n"
     ]
    }
   ],
   "source": [
    "def operations(number):\n",
    "    n = len(number)\n",
    "    diff = lambda i, j: abs(j - int(number[i]))\n",
    "    # compute diff between the current digit and wanted digit, and fill the dp\n",
    "    prev_dp = [min(diff(0, i), 10 - diff(0, i)) for i in range(10)]\n",
    "\n",
    "    # go through all digits and see all possible combinations using dynamic programming\n",
    "    for i in range(1, n):\n",
    "        curr_dp = [min(diff(i, j), 10 - diff(i, j)) for j in range(10)]\n",
    "        for j in range(10):\n",
    "            # find the min value for the previous digit and add it to the current value\n",
    "            curr_dp[j] += min(prev_dp[0 : j + 1])\n",
    "        prev_dp = curr_dp\n",
    "\n",
    "    min_dist = min(prev_dp)\n",
    "\n",
    "    return min_dist\n",
    "\n",
    "print('Testing 01 ->',operations('901'))\n",
    "print('Testing 02 ->', operations('301'))\n",
    "print('Testing 03 ->', operations('5982'))"
   ]
  }
 ],
 "metadata": {
  "kernelspec": {
   "display_name": "Python 3",
   "language": "python",
   "name": "python3"
  },
  "language_info": {
   "codemirror_mode": {
    "name": "ipython",
    "version": 3
   },
   "file_extension": ".py",
   "mimetype": "text/x-python",
   "name": "python",
   "nbconvert_exporter": "python",
   "pygments_lexer": "ipython3",
   "version": "3.8.10"
  }
 },
 "nbformat": 4,
 "nbformat_minor": 5
}
