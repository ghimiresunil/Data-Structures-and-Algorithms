{
 "cells": [
  {
   "cell_type": "code",
   "execution_count": 1,
   "id": "c1fbe820",
   "metadata": {},
   "outputs": [],
   "source": [
    "def check_pattern_in_string(input_s, pattern):\n",
    "    pattern_len = len(pattern)\n",
    "    input_len = len(input_s)\n",
    "    result = [[False for i in range(pattern_len+1)] for j in range(input_len+1)]\n",
    "    result[0][0] = True\n",
    "    for j in range(pattern_len+1):\n",
    "        if pattern[j-1] == '*':\n",
    "            result[0][j] = result[0][j-1]\n",
    "    for i in range(1,len(input_s)+1):\n",
    "        for j in range(1,pattern_len+1):\n",
    "            if input_s[i-1] == pattern[j-1]:\n",
    "                result[i][j] = result[i-1][j-1]\n",
    "            elif pattern[j-1] == '*':\n",
    "                result[i][j] = result[i-1][j] or result[i][j-1]\n",
    "            elif pattern[j-1] == '?':\n",
    "                result[i][j] = result[i-1][j-1]\n",
    "    return result[input_len][pattern_len]"
   ]
  },
  {
   "cell_type": "code",
   "execution_count": 2,
   "id": "fb21059f",
   "metadata": {},
   "outputs": [
    {
     "data": {
      "text/plain": [
       "False"
      ]
     },
     "execution_count": 2,
     "metadata": {},
     "output_type": "execute_result"
    }
   ],
   "source": [
    "check_pattern_in_string('xyxzzxy','x***x')"
   ]
  },
  {
   "cell_type": "code",
   "execution_count": null,
   "id": "4234fa15",
   "metadata": {},
   "outputs": [],
   "source": []
  },
  {
   "cell_type": "code",
   "execution_count": null,
   "id": "9242a902",
   "metadata": {},
   "outputs": [],
   "source": []
  }
 ],
 "metadata": {
  "kernelspec": {
   "display_name": "Python 3",
   "language": "python",
   "name": "python3"
  },
  "language_info": {
   "codemirror_mode": {
    "name": "ipython",
    "version": 3
   },
   "file_extension": ".py",
   "mimetype": "text/x-python",
   "name": "python",
   "nbconvert_exporter": "python",
   "pygments_lexer": "ipython3",
   "version": "3.8.10"
  }
 },
 "nbformat": 4,
 "nbformat_minor": 5
}
