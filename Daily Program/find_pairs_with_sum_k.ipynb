{
 "cells": [
  {
   "cell_type": "code",
   "execution_count": 1,
   "id": "0a61f7c1",
   "metadata": {},
   "outputs": [],
   "source": [
    "def find_pairs_with_sum_k(arr, K):\n",
    "    # set to have all complements\n",
    "    complements = set()\n",
    "    # set to save all unique complements that form a pair\n",
    "    pair_complements = set()\n",
    "    \n",
    "    for el in arr:\n",
    "        c = K - el\n",
    "        \n",
    "        # if complement exits, then a pair is found \n",
    "        if c in complements:\n",
    "            pair_complements.add(c)\n",
    "        \n",
    "        # save this number as complement\n",
    "        complements.add(el)\n",
    "    \n",
    "    # find all unique pairs\n",
    "    pairs = []\n",
    "    \n",
    "    for c in pair_complements:\n",
    "        pairs.append((c, K - c))\n",
    "        \n",
    "    return pairs"
   ]
  },
  {
   "cell_type": "code",
   "execution_count": 2,
   "id": "376bf709",
   "metadata": {},
   "outputs": [
    {
     "name": "stdout",
     "output_type": "stream",
     "text": [
      "Testing 01 -> [(1, 9), (2, 8), (3, 7), (4, 6), (5, 5)]\n",
      "Testing 02 -> [(3, 9), (4, 8), (5, 7)]\n"
     ]
    }
   ],
   "source": [
    "print('Testing 01 ->', find_pairs_with_sum_k([1, 2, 2, 3, 4, 5, 5, 5, 6, 7, 8, 8, 9], 10))\n",
    "print('Testing 02 ->', find_pairs_with_sum_k([1, 2, 2, 3, 4, 5, 5, 5, 6, 7, 8, 8, 9], 12))"
   ]
  },
  {
   "cell_type": "code",
   "execution_count": null,
   "id": "034f1f87",
   "metadata": {},
   "outputs": [],
   "source": []
  }
 ],
 "metadata": {
  "kernelspec": {
   "display_name": "Python 3",
   "language": "python",
   "name": "python3"
  },
  "language_info": {
   "codemirror_mode": {
    "name": "ipython",
    "version": 3
   },
   "file_extension": ".py",
   "mimetype": "text/x-python",
   "name": "python",
   "nbconvert_exporter": "python",
   "pygments_lexer": "ipython3",
   "version": "3.8.10"
  }
 },
 "nbformat": 4,
 "nbformat_minor": 5
}
