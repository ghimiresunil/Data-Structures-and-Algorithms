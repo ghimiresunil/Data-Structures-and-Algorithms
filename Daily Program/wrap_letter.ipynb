{
 "cells": [
  {
   "cell_type": "code",
   "execution_count": 1,
   "id": "9307e41b",
   "metadata": {},
   "outputs": [
    {
     "name": "stdout",
     "output_type": "stream",
     "text": [
      "Sunil (Linus) Ghimire\n",
      "i -> 4\n",
      "  -> 2\n",
      "n -> 2\n",
      "u -> 2\n",
      "( -> 1\n",
      ") -> 1\n",
      "G -> 1\n",
      "L -> 1\n",
      "S -> 1\n",
      "e -> 1\n",
      "h -> 1\n",
      "l -> 1\n",
      "m -> 1\n",
      "r -> 1\n",
      "s -> 1\n"
     ]
    }
   ],
   "source": [
    "word = input()\n",
    "dct = {}\n",
    "for i in word:\n",
    "    dct[i] = dct.get(i, 0) + 1\n",
    "\n",
    "dct = sorted(dct.items(), key=lambda x: (-x[1], x[0]))\n",
    "for i in dct:\n",
    "    print(i[0],'->', i[1])"
   ]
  },
  {
   "cell_type": "code",
   "execution_count": null,
   "id": "e190be8e",
   "metadata": {},
   "outputs": [],
   "source": []
  },
  {
   "cell_type": "code",
   "execution_count": null,
   "id": "984c66df",
   "metadata": {},
   "outputs": [],
   "source": []
  }
 ],
 "metadata": {
  "kernelspec": {
   "display_name": "Python 3",
   "language": "python",
   "name": "python3"
  },
  "language_info": {
   "codemirror_mode": {
    "name": "ipython",
    "version": 3
   },
   "file_extension": ".py",
   "mimetype": "text/x-python",
   "name": "python",
   "nbconvert_exporter": "python",
   "pygments_lexer": "ipython3",
   "version": "3.8.10"
  }
 },
 "nbformat": 4,
 "nbformat_minor": 5
}
