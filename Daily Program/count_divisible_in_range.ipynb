{
 "cells": [
  {
   "cell_type": "code",
   "execution_count": 2,
   "id": "d2370c14",
   "metadata": {},
   "outputs": [],
   "source": [
    "def count_divisible_in_range(start, end, n):\n",
    "    # find the next start number divisible by n \n",
    "    \n",
    "    start += (n  - (start % n)) % n\n",
    "    \n",
    "    if start > end:\n",
    "        return 0\n",
    "    \n",
    "    return 1  + ((end - start) // n)\n"
   ]
  },
  {
   "cell_type": "code",
   "execution_count": 4,
   "id": "4ca5de8c",
   "metadata": {},
   "outputs": [
    {
     "name": "stdout",
     "output_type": "stream",
     "text": [
      "Testing 01 -> 6\n",
      "Testing 02 -> 9\n",
      "Testing 03 -> 200000000000\n",
      "Testing 04 -> 0\n",
      "Testing 05 -> 200000000001\n"
     ]
    }
   ],
   "source": [
    "print('Testing 01 ->', count_divisible_in_range(7, 28, 4))\n",
    "print('Testing 02 ->', count_divisible_in_range(-77, 19, 10))\n",
    "print('Testing 03 ->', count_divisible_in_range(0, 10**12 - 1, 5))\n",
    "print('Testing 04 ->', count_divisible_in_range(-19, -13, 10))\n",
    "print('Testing 05 ->', count_divisible_in_range(0, 10**12, 5))"
   ]
  }
 ],
 "metadata": {
  "kernelspec": {
   "display_name": "Python 3",
   "language": "python",
   "name": "python3"
  },
  "language_info": {
   "codemirror_mode": {
    "name": "ipython",
    "version": 3
   },
   "file_extension": ".py",
   "mimetype": "text/x-python",
   "name": "python",
   "nbconvert_exporter": "python",
   "pygments_lexer": "ipython3",
   "version": "3.8.10"
  }
 },
 "nbformat": 4,
 "nbformat_minor": 5
}
