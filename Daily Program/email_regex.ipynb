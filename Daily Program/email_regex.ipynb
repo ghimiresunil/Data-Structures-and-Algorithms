{
 "cells": [
  {
   "cell_type": "code",
   "execution_count": 1,
   "id": "cace533f",
   "metadata": {},
   "outputs": [
    {
     "name": "stdout",
     "output_type": "stream",
     "text": [
      "1\n",
      "sunil ghimiresunil64@gmail.com\n",
      "sunil\n"
     ]
    }
   ],
   "source": [
    "import math \n",
    "import os \n",
    "import random\n",
    "import re\n",
    "import sys\n",
    "\n",
    "if __name__ == '__main__':\n",
    "    N = int(input())\n",
    "    \n",
    "    pattern = r\"@gmail\\.com$\"\n",
    "    regex = re.compile(pattern)\n",
    "    \n",
    "    firstNamesList = []\n",
    "    \n",
    "    for N_itr in range(N):\n",
    "        FirstNameEmailID = input().split()\n",
    "        firstName = FirstNameEmailID[0]\n",
    "        emailID = FirstNameEmailID[1]\n",
    "        \n",
    "        if regex.search(emailID):\n",
    "            firstNamesList.append(firstName)\n",
    "    \n",
    "    firstNamesList.sort()\n",
    "    \n",
    "    for name in firstNamesList:\n",
    "        print(name)"
   ]
  },
  {
   "cell_type": "code",
   "execution_count": null,
   "id": "ca5bf6b1",
   "metadata": {},
   "outputs": [],
   "source": []
  }
 ],
 "metadata": {
  "kernelspec": {
   "display_name": "Python 3",
   "language": "python",
   "name": "python3"
  },
  "language_info": {
   "codemirror_mode": {
    "name": "ipython",
    "version": 3
   },
   "file_extension": ".py",
   "mimetype": "text/x-python",
   "name": "python",
   "nbconvert_exporter": "python",
   "pygments_lexer": "ipython3",
   "version": "3.8.10"
  }
 },
 "nbformat": 4,
 "nbformat_minor": 5
}
