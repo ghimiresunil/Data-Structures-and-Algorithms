{
 "cells": [
  {
   "cell_type": "code",
   "execution_count": 1,
   "id": "e5c5417b",
   "metadata": {},
   "outputs": [
    {
     "name": "stdout",
     "output_type": "stream",
     "text": [
      "Testing 01 -> 24\n"
     ]
    }
   ],
   "source": [
    "def odd_sum(a, b):\n",
    "    # find first odd number\n",
    "    if a % 2 == 0:\n",
    "        a += 1\n",
    "    # to avoid rounding (math.ceil) find the biggest even number\n",
    "    if b % 2 == 1:\n",
    "        b += 1\n",
    "    # count of odd numbers\n",
    "    n = (b - a + 1) // 2\n",
    "    # use the formula from the description\n",
    "    return n * (a + n - 1)\n",
    "\n",
    "print('Testing 01 ->', odd_sum(3, 9))"
   ]
  }
 ],
 "metadata": {
  "kernelspec": {
   "display_name": "Python 3",
   "language": "python",
   "name": "python3"
  },
  "language_info": {
   "codemirror_mode": {
    "name": "ipython",
    "version": 3
   },
   "file_extension": ".py",
   "mimetype": "text/x-python",
   "name": "python",
   "nbconvert_exporter": "python",
   "pygments_lexer": "ipython3",
   "version": "3.8.10"
  }
 },
 "nbformat": 4,
 "nbformat_minor": 5
}
