{
 "cells": [
  {
   "cell_type": "code",
   "execution_count": 1,
   "id": "dadf18b1",
   "metadata": {},
   "outputs": [],
   "source": [
    "import numpy as np\n",
    "\n",
    "def polynomial(m,n,t,c):\n",
    "    A = np.empty((m,n))\n",
    "    for i in range(m):\n",
    "        for j in range(n):\n",
    "            A[i,j] = t[i]**(n)\n",
    "    return A@c"
   ]
  },
  {
   "cell_type": "code",
   "execution_count": 2,
   "id": "4e2e8626",
   "metadata": {},
   "outputs": [
    {
     "data": {
      "text/plain": [
       "array([[2.1749497e-316, 0.0000000e+000],\n",
       "       [0.0000000e+000, 0.0000000e+000],\n",
       "       [0.0000000e+000, 0.0000000e+000]])"
      ]
     },
     "execution_count": 2,
     "metadata": {},
     "output_type": "execute_result"
    }
   ],
   "source": [
    "np.empty((3,2))"
   ]
  },
  {
   "cell_type": "code",
   "execution_count": 3,
   "id": "96ecc579",
   "metadata": {},
   "outputs": [
    {
     "data": {
      "text/plain": [
       "array([23, 93, 99,  2, 96,  1, 82, 98, 26, 11])"
      ]
     },
     "execution_count": 3,
     "metadata": {},
     "output_type": "execute_result"
    }
   ],
   "source": [
    "m, n = 10, 8\n",
    "t = np.random.randint(0, 100, m)\n",
    "t"
   ]
  },
  {
   "cell_type": "code",
   "execution_count": 4,
   "id": "ed7b1a22",
   "metadata": {},
   "outputs": [
    {
     "data": {
      "text/plain": [
       "array([92, 98, 83, 36, 28, 13, 89, 32])"
      ]
     },
     "execution_count": 4,
     "metadata": {},
     "output_type": "execute_result"
    }
   ],
   "source": [
    "c = np.random.randint(0, 100,  n)\n",
    "c"
   ]
  },
  {
   "cell_type": "code",
   "execution_count": 5,
   "id": "56303916",
   "metadata": {},
   "outputs": [
    {
     "data": {
      "text/plain": [
       "array([3.68844741e+13, 2.63563032e+18, 4.34612751e+18, 1.20576000e+05,\n",
       "       3.39774492e+18, 4.71000000e+02, 9.62790344e+17, 4.00709384e+18,\n",
       "       9.83575474e+13, 1.00963033e+11])"
      ]
     },
     "execution_count": 5,
     "metadata": {},
     "output_type": "execute_result"
    }
   ],
   "source": [
    "polynomial(m, n, t, c)"
   ]
  }
 ],
 "metadata": {
  "kernelspec": {
   "display_name": "Python 3",
   "language": "python",
   "name": "python3"
  },
  "language_info": {
   "codemirror_mode": {
    "name": "ipython",
    "version": 3
   },
   "file_extension": ".py",
   "mimetype": "text/x-python",
   "name": "python",
   "nbconvert_exporter": "python",
   "pygments_lexer": "ipython3",
   "version": "3.8.10"
  }
 },
 "nbformat": 4,
 "nbformat_minor": 5
}
