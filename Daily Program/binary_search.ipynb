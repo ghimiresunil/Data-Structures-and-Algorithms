{
 "cells": [
  {
   "cell_type": "markdown",
   "id": "da782264",
   "metadata": {},
   "source": [
    "## Solution 01"
   ]
  },
  {
   "cell_type": "code",
   "execution_count": 1,
   "id": "9f15e193",
   "metadata": {},
   "outputs": [
    {
     "name": "stdout",
     "output_type": "stream",
     "text": [
      "Array Length: 14\n",
      "Middle Value: 7\n",
      "Middle Value: 10\n",
      "The Value Found at Index: 10\n"
     ]
    }
   ],
   "source": [
    "def binary_search_Ascending(array, target):\n",
    "    lower = 0\n",
    "    upper = len(array)\n",
    "    print(\"Array Length:\", upper)\n",
    "    while lower < upper:\n",
    "        x = (lower + upper) // 2\n",
    "        print(\"Middle Value:\", x)\n",
    "        value = array[x]\n",
    "        if target == value:\n",
    "            return x\n",
    "        elif target > value:\n",
    "            lower = x\n",
    "        elif target < value:\n",
    "            upper = x\n",
    "\n",
    "\n",
    "Array = [1, 5, 8, 10, 12, 13, 55, 66, 73, 78, 82, 85, 88, 99]\n",
    "print(\"The Value Found at Index:\", binary_search_Ascending(Array, 82))"
   ]
  },
  {
   "cell_type": "markdown",
   "id": "6175bc45",
   "metadata": {},
   "source": [
    "## Solution 02 "
   ]
  },
  {
   "cell_type": "code",
   "execution_count": 2,
   "id": "58ab003a",
   "metadata": {},
   "outputs": [
    {
     "name": "stdout",
     "output_type": "stream",
     "text": [
      "7\n"
     ]
    }
   ],
   "source": [
    "idx = 0\n",
    "\n",
    "def bs(num, num_list):\n",
    "    global idx\n",
    "    if len(num_list) == 1:\n",
    "        if num_list[0] == num:\n",
    "            return idx\n",
    "        else:\n",
    "            return \"No exit in the list\"\n",
    "    elif num in num_list[: len(num_list) // 2]:\n",
    "        return bs(num, num_list[: len(num_list) // 2])\n",
    "    else:\n",
    "        idx += len(num_list) // 2\n",
    "    return bs(num, num_list[len(num_list) // 2 :])\n",
    "\n",
    "\n",
    "print(bs(66, [1, 5, 8, 10, 12, 13, 55, 66, 73, 78, 82, 85, 88, 99, 100]))"
   ]
  }
 ],
 "metadata": {
  "kernelspec": {
   "display_name": "Python 3",
   "language": "python",
   "name": "python3"
  },
  "language_info": {
   "codemirror_mode": {
    "name": "ipython",
    "version": 3
   },
   "file_extension": ".py",
   "mimetype": "text/x-python",
   "name": "python",
   "nbconvert_exporter": "python",
   "pygments_lexer": "ipython3",
   "version": "3.8.10"
  }
 },
 "nbformat": 4,
 "nbformat_minor": 5
}
