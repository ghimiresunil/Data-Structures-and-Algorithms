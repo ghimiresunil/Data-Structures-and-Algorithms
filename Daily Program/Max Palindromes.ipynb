{
 "cells": [
  {
   "cell_type": "code",
   "execution_count": 1,
   "id": "2ec5d7aa",
   "metadata": {},
   "outputs": [],
   "source": [
    "from collections import defaultdict\n",
    "from itertools import permutations\n",
    "\n",
    "def get_max_palindromes(s):\n",
    "    n = len(s)\n",
    "    z = ord('a')\n",
    "    S = defaultdict(lambda:0)\n",
    "    for i,v in enumerate(s,1):\n",
    "        S[v] = S[v]+1\n",
    "    left = ''\n",
    "    mid_char = []\n",
    "    for ch in S:\n",
    "        if S[ch] % 2 == 1:\n",
    "            mid_char.append(ch)\n",
    "            S[ch] -= 1\n",
    "    for ch in S:\n",
    "        if S[ch] != 0 and S[ch]%2 == 0:\n",
    "            count = S[ch]/2\n",
    "            while count > 0:\n",
    "                left = left + ch\n",
    "                count -= 1\n",
    "            S[ch] = S[ch]/2\n",
    "    left_s = ''.join(sorted(left)) \n",
    "    all_left = [''.join(p) for p in permutations(left_s)]\n",
    "    max_len = 0\n",
    "    final_res = []\n",
    "    for m in mid_char:\n",
    "        for a in set(all_left):\n",
    "            result = a+m+a[::-1]\n",
    "            final_res.append(result)\n",
    "    return final_res"
   ]
  },
  {
   "cell_type": "code",
   "execution_count": 2,
   "id": "c1a38982",
   "metadata": {},
   "outputs": [],
   "source": [
    "result = get_max_palindromes('aaaabbbccd')"
   ]
  },
  {
   "cell_type": "code",
   "execution_count": 3,
   "id": "836158dc",
   "metadata": {},
   "outputs": [
    {
     "name": "stdout",
     "output_type": "stream",
     "text": [
      "9\n"
     ]
    }
   ],
   "source": [
    "print(len(result[0]))"
   ]
  },
  {
   "cell_type": "code",
   "execution_count": null,
   "id": "32e84558",
   "metadata": {},
   "outputs": [],
   "source": []
  }
 ],
 "metadata": {
  "kernelspec": {
   "display_name": "Python 3",
   "language": "python",
   "name": "python3"
  },
  "language_info": {
   "codemirror_mode": {
    "name": "ipython",
    "version": 3
   },
   "file_extension": ".py",
   "mimetype": "text/x-python",
   "name": "python",
   "nbconvert_exporter": "python",
   "pygments_lexer": "ipython3",
   "version": "3.8.10"
  }
 },
 "nbformat": 4,
 "nbformat_minor": 5
}
