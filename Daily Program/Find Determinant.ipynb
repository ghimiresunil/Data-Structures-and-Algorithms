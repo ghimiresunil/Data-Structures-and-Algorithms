{
 "cells": [
  {
   "cell_type": "code",
   "execution_count": 1,
   "id": "f280277d",
   "metadata": {},
   "outputs": [
    {
     "data": {
      "text/plain": [
       "1"
      ]
     },
     "execution_count": 1,
     "metadata": {},
     "output_type": "execute_result"
    }
   ],
   "source": [
    "import numpy as np\n",
    "\n",
    "#Find determinant of 2x2 matrix\n",
    "A = np.array([[2,3],[1,2]])\n",
    "\n",
    "A[0,0]*A[1,1] - A[1,0]*A[0,1]"
   ]
  },
  {
   "cell_type": "markdown",
   "id": "ff158342",
   "metadata": {},
   "source": [
    "If the dimension is greater than 2, we use the recursion to find the determinant.\n",
    "\n",
    "Steps of finding the determinant:\n",
    "\n",
    "1. Base case: when the determinant is equal to 2, we use the method discussed above\n",
    "2. Else, we traverse the first row and find the determinant correspoding to the element we traverse"
   ]
  },
  {
   "cell_type": "code",
   "execution_count": 2,
   "id": "83bde6f1",
   "metadata": {},
   "outputs": [],
   "source": [
    "def findDet(A, total = 0):\n",
    "    dim = A.shape[0]\n",
    "    if dim == 2:\n",
    "        det = A[0,0]*A[1,1] - A[1,0]*A[0,1]\n",
    "        return det\n",
    "    else:\n",
    "        A1 = A.copy()\n",
    "        #Delete the first row\n",
    "        A1 = np.delete(A1,0,0)\n",
    "        cols = A.shape[1]\n",
    "        for i in range(cols):\n",
    "        #Delete the column corresponding to the position of the element traversed\n",
    "            A2 = np.delete(A1,i,1)\n",
    "            total += (-1)**i * A[0,i] * findDet(A2)         \n",
    "    return total"
   ]
  },
  {
   "cell_type": "code",
   "execution_count": 3,
   "id": "ab78510d",
   "metadata": {},
   "outputs": [
    {
     "data": {
      "text/plain": [
       "-4788.85257603432"
      ]
     },
     "execution_count": 3,
     "metadata": {},
     "output_type": "execute_result"
    }
   ],
   "source": [
    "#Use Numpy.inalg.det() method to check our result\n",
    "A = np.random.normal(0,10,(3,3))\n",
    "np.linalg.det(A)"
   ]
  },
  {
   "cell_type": "code",
   "execution_count": 4,
   "id": "7612a6ba",
   "metadata": {},
   "outputs": [
    {
     "data": {
      "text/plain": [
       "-4788.852576034327"
      ]
     },
     "execution_count": 4,
     "metadata": {},
     "output_type": "execute_result"
    }
   ],
   "source": [
    "findDet(A)"
   ]
  },
  {
   "cell_type": "code",
   "execution_count": null,
   "id": "0fefcd74",
   "metadata": {},
   "outputs": [],
   "source": []
  }
 ],
 "metadata": {
  "kernelspec": {
   "display_name": "Python 3",
   "language": "python",
   "name": "python3"
  },
  "language_info": {
   "codemirror_mode": {
    "name": "ipython",
    "version": 3
   },
   "file_extension": ".py",
   "mimetype": "text/x-python",
   "name": "python",
   "nbconvert_exporter": "python",
   "pygments_lexer": "ipython3",
   "version": "3.8.10"
  }
 },
 "nbformat": 4,
 "nbformat_minor": 5
}
