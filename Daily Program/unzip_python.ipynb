{
 "cells": [
  {
   "cell_type": "markdown",
   "id": "12643883",
   "metadata": {},
   "source": [
    "## First attempt"
   ]
  },
  {
   "cell_type": "code",
   "execution_count": 1,
   "id": "90239847",
   "metadata": {},
   "outputs": [],
   "source": [
    "freq_tweets = [\n",
    "    (144040, '<user>'),\n",
    "    (108030, 'i'),\n",
    "    (46813, '<url>'),\n",
    "    (36010, '<hashtag')\n",
    "]"
   ]
  },
  {
   "cell_type": "code",
   "execution_count": 2,
   "id": "4d94d29b",
   "metadata": {},
   "outputs": [
    {
     "data": {
      "text/plain": [
       "[144040, 108030, 46813, 36010]"
      ]
     },
     "execution_count": 2,
     "metadata": {},
     "output_type": "execute_result"
    }
   ],
   "source": [
    "freq = [x[0] for x in freq_tweets]\n",
    "freq"
   ]
  },
  {
   "cell_type": "code",
   "execution_count": 3,
   "id": "415dced8",
   "metadata": {},
   "outputs": [],
   "source": [
    "tweet = [x[1] for x in freq_tweets]"
   ]
  },
  {
   "cell_type": "markdown",
   "id": "362d28d3",
   "metadata": {},
   "source": [
    "## Unzip"
   ]
  },
  {
   "cell_type": "code",
   "execution_count": 4,
   "id": "33e2c5e1",
   "metadata": {},
   "outputs": [
    {
     "name": "stdout",
     "output_type": "stream",
     "text": [
      "Frequency: (144040, 108030, 46813, 36010)\n",
      "Tweets: ('<user>', 'i', '<url>', '<hashtag')\n"
     ]
    }
   ],
   "source": [
    "freq, tweet = zip(*freq_tweets)\n",
    "print('Frequency: {}'.format(freq))\n",
    "print('Tweets: {}'.format(tweet))"
   ]
  },
  {
   "cell_type": "code",
   "execution_count": 5,
   "id": "5e30bc97",
   "metadata": {},
   "outputs": [
    {
     "data": {
      "text/html": [
       "<div>\n",
       "<style scoped>\n",
       "    .dataframe tbody tr th:only-of-type {\n",
       "        vertical-align: middle;\n",
       "    }\n",
       "\n",
       "    .dataframe tbody tr th {\n",
       "        vertical-align: top;\n",
       "    }\n",
       "\n",
       "    .dataframe thead th {\n",
       "        text-align: right;\n",
       "    }\n",
       "</style>\n",
       "<table border=\"1\" class=\"dataframe\">\n",
       "  <thead>\n",
       "    <tr style=\"text-align: right;\">\n",
       "      <th></th>\n",
       "      <th>Frequency</th>\n",
       "      <th>Tweet</th>\n",
       "    </tr>\n",
       "  </thead>\n",
       "  <tbody>\n",
       "    <tr>\n",
       "      <th>0</th>\n",
       "      <td>144040</td>\n",
       "      <td>&lt;user&gt;</td>\n",
       "    </tr>\n",
       "    <tr>\n",
       "      <th>1</th>\n",
       "      <td>108030</td>\n",
       "      <td>i</td>\n",
       "    </tr>\n",
       "    <tr>\n",
       "      <th>2</th>\n",
       "      <td>46813</td>\n",
       "      <td>&lt;url&gt;</td>\n",
       "    </tr>\n",
       "    <tr>\n",
       "      <th>3</th>\n",
       "      <td>36010</td>\n",
       "      <td>&lt;hashtag</td>\n",
       "    </tr>\n",
       "  </tbody>\n",
       "</table>\n",
       "</div>"
      ],
      "text/plain": [
       "   Frequency     Tweet\n",
       "0     144040    <user>\n",
       "1     108030         i\n",
       "2      46813     <url>\n",
       "3      36010  <hashtag"
      ]
     },
     "execution_count": 5,
     "metadata": {},
     "output_type": "execute_result"
    }
   ],
   "source": [
    "import pandas as pd\n",
    "tweets = pd.DataFrame({'Frequency':freq,\n",
    "             'Tweet': tweet})\n",
    "tweets.head()"
   ]
  }
 ],
 "metadata": {
  "kernelspec": {
   "display_name": "Python 3",
   "language": "python",
   "name": "python3"
  },
  "language_info": {
   "codemirror_mode": {
    "name": "ipython",
    "version": 3
   },
   "file_extension": ".py",
   "mimetype": "text/x-python",
   "name": "python",
   "nbconvert_exporter": "python",
   "pygments_lexer": "ipython3",
   "version": "3.8.10"
  }
 },
 "nbformat": 4,
 "nbformat_minor": 5
}
