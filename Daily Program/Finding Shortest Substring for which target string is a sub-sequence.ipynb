{
 "cells": [
  {
   "cell_type": "code",
   "execution_count": 1,
   "id": "376241ae",
   "metadata": {},
   "outputs": [],
   "source": [
    "def shortest_subsequence(S,T):\n",
    "        result = [[None for _ in range(len(S))] for _ in range(2)]\n",
    "        for j, c in enumerate(S):\n",
    "            if c == T[0]:\n",
    "                result[0][j] = j\n",
    "\n",
    "        for i in range(1, len(T)):\n",
    "            prev = None\n",
    "            result[i%2] = [None] * len(S)\n",
    "            for j, c in enumerate(S):\n",
    "                if prev is not None and c == T[i]:\n",
    "                    result[i%2][j] = prev\n",
    "                if result[(i-1)%2][j] is not None:\n",
    "                    prev = result[(i-1)%2][j]\n",
    "        start, end = 0, len(S)\n",
    "        for j, i in enumerate(result[(len(T)-1)%2]):\n",
    "            if (i is not None and j is not None) and i >= 0 and j-i < end-start:\n",
    "                start, end = i, j\n",
    "        return S[start:end+1] if end < len(S) else \"\""
   ]
  },
  {
   "cell_type": "code",
   "execution_count": 2,
   "id": "f74f8d24",
   "metadata": {},
   "outputs": [
    {
     "name": "stdout",
     "output_type": "stream",
     "text": [
      "10\n"
     ]
    }
   ],
   "source": [
    "input_s = 'abmazmnotnorapty'\n",
    "print(len(shortest_subsequence(input_s[0:12], 'amazon')))"
   ]
  },
  {
   "cell_type": "code",
   "execution_count": 3,
   "id": "919c6868",
   "metadata": {},
   "outputs": [
    {
     "data": {
      "text/plain": [
       "'mazmnotnorapty'"
      ]
     },
     "execution_count": 3,
     "metadata": {},
     "output_type": "execute_result"
    }
   ],
   "source": [
    "input_s[2:19]"
   ]
  },
  {
   "cell_type": "code",
   "execution_count": 5,
   "id": "d4f858ca",
   "metadata": {},
   "outputs": [
    {
     "name": "stdout",
     "output_type": "stream",
     "text": [
      "9223372036854775807\n"
     ]
    }
   ],
   "source": [
    "import sys\n",
    "input_s = 'mplpaihlatphjaithaij'\n",
    "T = 'aphtia'\n",
    "S = input_s[2:19]\n",
    "if( S == None or len(S) == 0 or T == None or len(T) == 0):\n",
    "    print('')\n",
    "result = [[None for i in range(len(T)+1)] for j in range(len(S)+1)]\n",
    "\n",
    "for i in range(1,len(T)+1):\n",
    "    result[0][i] = -1\n",
    "for i in range(1,len(S)+1):\n",
    "    result[i][0] = 1\n",
    "\n",
    "final_len = sys.maxsize\n",
    "start_index = -1\n",
    "for i in range(1, len(S)+1):\n",
    "    for j in range(1, len(T)+1):\n",
    "        result[i][j] = -1\n",
    "        \n",
    "        if S[i-1] == T[j-1]:\n",
    "            result[i][j] = result[i-1][j-1]\n",
    "        else:\n",
    "            result[i][j] = result[i-1][j]\n",
    "    if result[i][len(T)] != -1:\n",
    "        len_val = i - result[i][len(T)]\n",
    "        if len_val < final_len:\n",
    "            start_index = dp[i][len(T)]\n",
    "            final_len = len_val\n",
    "print(final_len)"
   ]
  },
  {
   "cell_type": "code",
   "execution_count": 6,
   "id": "8cfbaf8c",
   "metadata": {},
   "outputs": [
    {
     "name": "stdout",
     "output_type": "stream",
     "text": [
      "[None, -1, -1, -1, -1, -1, -1]\n",
      "[1, -1, -1, -1, -1, -1, -1]\n",
      "[1, -1, -1, -1, -1, -1, -1]\n",
      "[1, 1, -1, -1, -1, -1, -1]\n",
      "[1, 1, -1, -1, -1, -1, -1]\n",
      "[1, 1, -1, -1, -1, -1, -1]\n",
      "[1, 1, -1, -1, -1, -1, -1]\n",
      "[1, 1, -1, -1, -1, -1, -1]\n",
      "[1, 1, -1, -1, -1, -1, -1]\n",
      "[1, 1, 1, -1, -1, -1, -1]\n",
      "[1, 1, 1, 1, -1, -1, -1]\n",
      "[1, 1, 1, 1, -1, -1, -1]\n",
      "[1, 1, 1, 1, -1, -1, -1]\n",
      "[1, 1, 1, 1, -1, -1, -1]\n",
      "[1, 1, 1, 1, 1, -1, -1]\n",
      "[1, 1, 1, 1, 1, -1, -1]\n",
      "[1, 1, 1, 1, 1, -1, -1]\n",
      "[1, 1, 1, 1, 1, 1, -1]\n"
     ]
    }
   ],
   "source": [
    "for d in result:\n",
    "    print(d)"
   ]
  },
  {
   "cell_type": "code",
   "execution_count": null,
   "id": "57158e03",
   "metadata": {},
   "outputs": [],
   "source": []
  }
 ],
 "metadata": {
  "kernelspec": {
   "display_name": "Python 3",
   "language": "python",
   "name": "python3"
  },
  "language_info": {
   "codemirror_mode": {
    "name": "ipython",
    "version": 3
   },
   "file_extension": ".py",
   "mimetype": "text/x-python",
   "name": "python",
   "nbconvert_exporter": "python",
   "pygments_lexer": "ipython3",
   "version": "3.8.10"
  }
 },
 "nbformat": 4,
 "nbformat_minor": 5
}
