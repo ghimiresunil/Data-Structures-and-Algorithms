{
 "cells": [
  {
   "cell_type": "code",
   "execution_count": 1,
   "id": "bf82e55a",
   "metadata": {},
   "outputs": [],
   "source": [
    "def get_max_profit_cut(prices, rod_length):\n",
    "    \n",
    "    # Memoization table - Something I like to call!- Not a technical term\n",
    "    # Ex: length = 4, => sub problem lengths: 0,1,2,3,4 \n",
    "    result = [0 for i in range(rod_length+1)]\n",
    "    \n",
    "    for i in range(1, rod_length+1):\n",
    "        for j in range(1, i+1):\n",
    "            result[i] = max(result[i] , prices[j-1] + result[i-j])\n",
    "            \n",
    "    return result"
   ]
  },
  {
   "cell_type": "code",
   "execution_count": 2,
   "id": "529f871c",
   "metadata": {},
   "outputs": [
    {
     "name": "stdout",
     "output_type": "stream",
     "text": [
      "[0, 1, 5, 8, 10]\n"
     ]
    }
   ],
   "source": [
    "# Test case:\n",
    "prices = [1,5,8,9,10,17,17,20]\n",
    "result = get_max_profit_cut(prices, 4)\n",
    "print(result)"
   ]
  },
  {
   "cell_type": "code",
   "execution_count": null,
   "id": "ecac87ea",
   "metadata": {},
   "outputs": [],
   "source": []
  }
 ],
 "metadata": {
  "kernelspec": {
   "display_name": "Python 3",
   "language": "python",
   "name": "python3"
  },
  "language_info": {
   "codemirror_mode": {
    "name": "ipython",
    "version": 3
   },
   "file_extension": ".py",
   "mimetype": "text/x-python",
   "name": "python",
   "nbconvert_exporter": "python",
   "pygments_lexer": "ipython3",
   "version": "3.8.10"
  }
 },
 "nbformat": 4,
 "nbformat_minor": 5
}
