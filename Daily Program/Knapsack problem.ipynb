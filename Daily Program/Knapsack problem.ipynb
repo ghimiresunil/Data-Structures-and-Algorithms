{
 "cells": [
  {
   "cell_type": "code",
   "execution_count": 1,
   "id": "b0c15285",
   "metadata": {},
   "outputs": [],
   "source": [
    "def find_optimal_combination(values, weights, capacity):\n",
    "    result = [[0 for i in range(capacity+1)] for j in range(len(values)+1)]\n",
    "    for i in range(1,len(values)+1):\n",
    "        for j in range(capacity+1):\n",
    "            if weights[i-1] > j:\n",
    "                result[i][j] = result[i-1][j]\n",
    "            else:\n",
    "                result[i][j] = max(result[i-1][j], result[i-1][j-weights[i-1]] + values[i-1])\n",
    "    return result[len(values)][capacity]"
   ]
  },
  {
   "cell_type": "code",
   "execution_count": 2,
   "id": "c49df507",
   "metadata": {},
   "outputs": [
    {
     "name": "stdout",
     "output_type": "stream",
     "text": [
      "60\n"
     ]
    }
   ],
   "source": [
    "# test case\n",
    "values = [20,5,10,40,15,25]\n",
    "weights = [1,2,3,8,7,4]\n",
    "capacity = 10\n",
    "print(find_optimal_combination(values, weights, capacity))"
   ]
  },
  {
   "cell_type": "code",
   "execution_count": null,
   "id": "fc590e68",
   "metadata": {},
   "outputs": [],
   "source": []
  }
 ],
 "metadata": {
  "kernelspec": {
   "display_name": "Python 3",
   "language": "python",
   "name": "python3"
  },
  "language_info": {
   "codemirror_mode": {
    "name": "ipython",
    "version": 3
   },
   "file_extension": ".py",
   "mimetype": "text/x-python",
   "name": "python",
   "nbconvert_exporter": "python",
   "pygments_lexer": "ipython3",
   "version": "3.8.10"
  }
 },
 "nbformat": 4,
 "nbformat_minor": 5
}
