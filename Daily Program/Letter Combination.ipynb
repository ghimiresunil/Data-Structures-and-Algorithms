{
 "cells": [
  {
   "cell_type": "code",
   "execution_count": 1,
   "id": "20b44b25",
   "metadata": {},
   "outputs": [],
   "source": [
    "def letter_combinations(digits):\n",
    "    if len(digits) == 0:\n",
    "        return []\n",
    "\n",
    "    mappings = {\n",
    "        '2': ['a','b','c'],\n",
    "        '3': ['d','e','f'],\n",
    "        '4': ['g','h','i'],\n",
    "        '5': ['j','k','l'],\n",
    "        '6': ['m','n','o'],\n",
    "        '7': ['p','q','r','s'],\n",
    "        '8': ['t','u','v'],\n",
    "        '9': ['w','x','y','z']\n",
    "    }\n",
    "    prev_combinations = ['']\n",
    "\n",
    "    for digit in digits:\n",
    "        new_combinations = []\n",
    "        for combination in prev_combinations:\n",
    "            # use the mappings and create new combinations\n",
    "            for mapping in mappings[digit]:\n",
    "                new_combinations.append(combination + mapping)\n",
    "        # save the newest combinations\n",
    "        prev_combinations = new_combinations\n",
    "\n",
    "    return prev_combinations"
   ]
  },
  {
   "cell_type": "code",
   "execution_count": 2,
   "id": "219aeb86",
   "metadata": {},
   "outputs": [
    {
     "name": "stdout",
     "output_type": "stream",
     "text": [
      "['ap', 'aq', 'ar', 'as', 'bp', 'bq', 'br', 'bs', 'cp', 'cq', 'cr', 'cs']\n"
     ]
    }
   ],
   "source": [
    "print(letter_combinations('27'))"
   ]
  }
 ],
 "metadata": {
  "kernelspec": {
   "display_name": "Python 3",
   "language": "python",
   "name": "python3"
  },
  "language_info": {
   "codemirror_mode": {
    "name": "ipython",
    "version": 3
   },
   "file_extension": ".py",
   "mimetype": "text/x-python",
   "name": "python",
   "nbconvert_exporter": "python",
   "pygments_lexer": "ipython3",
   "version": "3.8.10"
  }
 },
 "nbformat": 4,
 "nbformat_minor": 5
}
