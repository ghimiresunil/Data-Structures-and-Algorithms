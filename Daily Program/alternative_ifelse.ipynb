{
 "cells": [
  {
   "cell_type": "markdown",
   "id": "dfeafed5",
   "metadata": {},
   "source": [
    "## 01. Alternative to if_else"
   ]
  },
  {
   "cell_type": "code",
   "execution_count": 1,
   "id": "3679ef92",
   "metadata": {},
   "outputs": [],
   "source": [
    "price_list = {\n",
    "'pen': 80,\n",
    "'copy': 70,\n",
    "'notebook': 150,\n",
    "}"
   ]
  },
  {
   "cell_type": "code",
   "execution_count": 2,
   "id": "c3285744",
   "metadata": {},
   "outputs": [],
   "source": [
    "# query the dictionary twice -> not sufficient\n",
    "\n",
    "def find_price(item):\n",
    "    if item in price_list:\n",
    "        return 'The price for {} is {}'.format(item, price_list[item])\n",
    "    else:\n",
    "        return 'The price for {} is not available'.format(itam)"
   ]
  },
  {
   "cell_type": "code",
   "execution_count": 3,
   "id": "3378bdae",
   "metadata": {},
   "outputs": [],
   "source": [
    "# .get() looks up a key and returns default value with the non-existent key\n",
    "def find_price(item):\n",
    "    return 'The price for {} is {}'.format(item, price_list.get(\n",
    "        item, 'not available'))"
   ]
  },
  {
   "cell_type": "code",
   "execution_count": 4,
   "id": "64523f88",
   "metadata": {},
   "outputs": [
    {
     "data": {
      "text/plain": [
       "'The price for copy is 70'"
      ]
     },
     "execution_count": 4,
     "metadata": {},
     "output_type": "execute_result"
    }
   ],
   "source": [
    "find_price('copy')"
   ]
  },
  {
   "cell_type": "code",
   "execution_count": 5,
   "id": "7f71f918",
   "metadata": {},
   "outputs": [
    {
     "data": {
      "text/plain": [
       "'The price for pencil is not available'"
      ]
     },
     "execution_count": 5,
     "metadata": {},
     "output_type": "execute_result"
    }
   ],
   "source": [
    "# returns default value with the non-existent key\n",
    "find_price('pencil')"
   ]
  },
  {
   "cell_type": "markdown",
   "id": "9bb0b05c",
   "metadata": {},
   "source": [
    "## 02. Operations "
   ]
  },
  {
   "cell_type": "code",
   "execution_count": 6,
   "id": "fd742bcf",
   "metadata": {},
   "outputs": [],
   "source": [
    "# okay\n",
    "def operations(operator, x, y):\n",
    "    if operator == 'add':\n",
    "        return x + y\n",
    "    elif operator == 'sub':\n",
    "        return x - y\n",
    "    elif operator == 'mul':\n",
    "        return x * y\n",
    "    elif operator == 'div':\n",
    "        return x / y"
   ]
  },
  {
   "cell_type": "code",
   "execution_count": 7,
   "id": "dd041b56",
   "metadata": {},
   "outputs": [
    {
     "data": {
      "text/plain": [
       "16"
      ]
     },
     "execution_count": 7,
     "metadata": {},
     "output_type": "execute_result"
    }
   ],
   "source": [
    "operations('mul', 2, 8)"
   ]
  },
  {
   "cell_type": "code",
   "execution_count": 8,
   "id": "7e051b14",
   "metadata": {},
   "outputs": [],
   "source": [
    "# better\n",
    "def operations(operator, x, y):\n",
    "    return {\n",
    "        'add': lambda: x+y,\n",
    "        'sub': lambda: x-y,\n",
    "        'mul': lambda: x*y,\n",
    "        'div': lambda: x/y,\n",
    "    }.get(operator, lambda: 'Not a valid operation')()"
   ]
  },
  {
   "cell_type": "code",
   "execution_count": 9,
   "id": "e29dd885",
   "metadata": {},
   "outputs": [
    {
     "data": {
      "text/plain": [
       "16"
      ]
     },
     "execution_count": 9,
     "metadata": {},
     "output_type": "execute_result"
    }
   ],
   "source": [
    "operations('mul', 2, 8)"
   ]
  },
  {
   "cell_type": "code",
   "execution_count": 10,
   "id": "09750aa9",
   "metadata": {},
   "outputs": [
    {
     "data": {
      "text/plain": [
       "'Not a valid operation'"
      ]
     },
     "execution_count": 10,
     "metadata": {},
     "output_type": "execute_result"
    }
   ],
   "source": [
    "operations('unknown', 2, 8)"
   ]
  },
  {
   "cell_type": "code",
   "execution_count": null,
   "id": "44b52b43",
   "metadata": {},
   "outputs": [],
   "source": []
  }
 ],
 "metadata": {
  "kernelspec": {
   "display_name": "Python 3",
   "language": "python",
   "name": "python3"
  },
  "language_info": {
   "codemirror_mode": {
    "name": "ipython",
    "version": 3
   },
   "file_extension": ".py",
   "mimetype": "text/x-python",
   "name": "python",
   "nbconvert_exporter": "python",
   "pygments_lexer": "ipython3",
   "version": "3.8.10"
  }
 },
 "nbformat": 4,
 "nbformat_minor": 5
}
