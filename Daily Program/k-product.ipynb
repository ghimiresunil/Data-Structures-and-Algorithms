{
 "cells": [
  {
   "cell_type": "code",
   "execution_count": 1,
   "id": "66547f99",
   "metadata": {},
   "outputs": [
    {
     "name": "stdout",
     "output_type": "stream",
     "text": [
      "1\n",
      "3\n",
      "12\n",
      "0\n",
      "0\n",
      "0\n",
      "30.0\n"
     ]
    }
   ],
   "source": [
    "from collections import deque\n",
    "\n",
    "class KProduct:\n",
    "    def __init__(self, k):\n",
    "        self.k  = k\n",
    "        self.numZeros = 0\n",
    "        self.product = 1\n",
    "        self.queue = deque()\n",
    "        \n",
    "    def insert(self, num):\n",
    "        self.queue.append(num)\n",
    "        if num == 0:\n",
    "            self.numZeros += 1\n",
    "        else:\n",
    "            self.product *= num\n",
    "        \n",
    "        if len(self.queue) > self.k:\n",
    "            poppedNum = self.queue.popleft()\n",
    "            if poppedNum == 0:\n",
    "                self.numZeros -= 1\n",
    "            else:\n",
    "                self.product /= poppedNum\n",
    "    \n",
    "    def getProduct(self):\n",
    "        if self.numZeros > 0:\n",
    "            return 0\n",
    "        return self.product\n",
    "    \n",
    "kProduct = KProduct(3)\n",
    "kProduct.insert(1)\n",
    "print(kProduct.getProduct())\n",
    "kProduct.insert(3)\n",
    "print(kProduct.getProduct())\n",
    "kProduct.insert(4)\n",
    "print(kProduct.getProduct())\n",
    "kProduct.insert(0)\n",
    "print(kProduct.getProduct())\n",
    "kProduct.insert(6)\n",
    "print(kProduct.getProduct())\n",
    "kProduct.insert(1)\n",
    "print(kProduct.getProduct())\n",
    "kProduct.insert(5)\n",
    "print(kProduct.getProduct())"
   ]
  },
  {
   "cell_type": "code",
   "execution_count": null,
   "id": "7834f2a0",
   "metadata": {},
   "outputs": [],
   "source": []
  }
 ],
 "metadata": {
  "kernelspec": {
   "display_name": "Python 3",
   "language": "python",
   "name": "python3"
  },
  "language_info": {
   "codemirror_mode": {
    "name": "ipython",
    "version": 3
   },
   "file_extension": ".py",
   "mimetype": "text/x-python",
   "name": "python",
   "nbconvert_exporter": "python",
   "pygments_lexer": "ipython3",
   "version": "3.8.10"
  }
 },
 "nbformat": 4,
 "nbformat_minor": 5
}
