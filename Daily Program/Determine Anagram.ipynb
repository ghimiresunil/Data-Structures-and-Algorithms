{
 "cells": [
  {
   "cell_type": "code",
   "execution_count": 1,
   "id": "c2197bc2",
   "metadata": {},
   "outputs": [],
   "source": [
    "from collections import Counter\n",
    "\n",
    "def isAnagram(s , t):\n",
    "    \n",
    "    c_s = Counter(s)\n",
    "    c_t = Counter(t)\n",
    "    \n",
    "    return (not (c_s - c_t)) and (not (c_t - c_s))"
   ]
  },
  {
   "cell_type": "code",
   "execution_count": 2,
   "id": "b4c18387",
   "metadata": {},
   "outputs": [
    {
     "data": {
      "text/plain": [
       "True"
      ]
     },
     "execution_count": 2,
     "metadata": {},
     "output_type": "execute_result"
    }
   ],
   "source": [
    "s = 'sunil'\n",
    "t = 'linus'\n",
    "isAnagram(s, t)"
   ]
  }
 ],
 "metadata": {
  "kernelspec": {
   "display_name": "Python 3",
   "language": "python",
   "name": "python3"
  },
  "language_info": {
   "codemirror_mode": {
    "name": "ipython",
    "version": 3
   },
   "file_extension": ".py",
   "mimetype": "text/x-python",
   "name": "python",
   "nbconvert_exporter": "python",
   "pygments_lexer": "ipython3",
   "version": "3.8.10"
  }
 },
 "nbformat": 4,
 "nbformat_minor": 5
}
