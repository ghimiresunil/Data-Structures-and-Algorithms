{
 "cells": [
  {
   "cell_type": "code",
   "execution_count": 1,
   "id": "42d16d8d",
   "metadata": {},
   "outputs": [
    {
     "name": "stdout",
     "output_type": "stream",
     "text": [
      "2\n",
      "1.5\n",
      "2\n",
      "3.5\n",
      "2\n",
      "2.0\n"
     ]
    }
   ],
   "source": [
    "import heapq\n",
    "class PriorityQueue:\n",
    "    def __init__(self, is_min=True):\n",
    "        self.data = []\n",
    "        self.is_min = is_min\n",
    "    def push(self, el):\n",
    "        if not self.is_min:\n",
    "            el = -el\n",
    "        heapq.heappush(self.data, el)\n",
    "    def pop(self):\n",
    "        el = heapq.heappop(self.data)\n",
    "        if not self.is_min:\n",
    "            el = -el\n",
    "        return el\n",
    "    def peek(self):\n",
    "        el = self.data[0]\n",
    "        if not self.is_min:\n",
    "            el = -el\n",
    "        return el\n",
    "    def count(self):\n",
    "        return len(self.data)\n",
    "def running_median(stream):\n",
    "    left_heap = PriorityQueue(False) # Max Priority Queue\n",
    "    right_heap = PriorityQueue() # Min Priority Queue\n",
    "\n",
    "    # left_heap will have always same number of elements or 1 element more than right_heap\n",
    "    for number in stream:\n",
    "        if left_heap.count() == 0:\n",
    "            # enters here only for the first element of the streen\n",
    "            left_heap.push(number)\n",
    "        # balance the heaps\n",
    "        elif left_heap.count() > right_heap.count():\n",
    "            # in this case the right_heap should get a new element (so both heaps will have same number of elements)\n",
    "            if left_heap.peek() > number:\n",
    "                # move an element from left to right heap\n",
    "                right_heap.push(left_heap.pop())\n",
    "                left_heap.push(number)\n",
    "            else:\n",
    "                right_heap.push(number)\n",
    "        else:\n",
    "            # in this case the left_heap should get a new element (so the left_heap will have 1 more element)\n",
    "            if right_heap.peek() < number:\n",
    "                # move an element from right to left heap\n",
    "                left_heap.push(right_heap.pop())\n",
    "                right_heap.push(number)\n",
    "            else:\n",
    "                left_heap.push(number)\n",
    "\n",
    "        if left_heap.count() > right_heap.count():\n",
    "            # if left_heap is bigger then odd elements from the stream are processed\n",
    "            # because left_heap is bigger ONLY BY 1 element from right_heap (n + n + 1 = 2n + 1)\n",
    "            print(left_heap.peek())\n",
    "        else:\n",
    "            # both heaps have same length, so the count from the elements is even (n + n = 2n)\n",
    "            print((left_heap.peek() + right_heap.peek())/2)\n",
    "\n",
    "running_median([2, 1, 5, 7, 2, 0])"
   ]
  }
 ],
 "metadata": {
  "kernelspec": {
   "display_name": "Python 3",
   "language": "python",
   "name": "python3"
  },
  "language_info": {
   "codemirror_mode": {
    "name": "ipython",
    "version": 3
   },
   "file_extension": ".py",
   "mimetype": "text/x-python",
   "name": "python",
   "nbconvert_exporter": "python",
   "pygments_lexer": "ipython3",
   "version": "3.8.10"
  }
 },
 "nbformat": 4,
 "nbformat_minor": 5
}
