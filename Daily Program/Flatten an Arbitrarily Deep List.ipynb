{
 "cells": [
  {
   "cell_type": "code",
   "execution_count": 1,
   "id": "d0e189d9",
   "metadata": {},
   "outputs": [
    {
     "name": "stdout",
     "output_type": "stream",
     "text": [
      "Testing 01 -> []\n",
      "Testing 02 -> [1, 2, 3, 4, 'bob', 6, 7, 8, 9]\n",
      "Testing 03 -> [89, 85, 72, 84, 65, 88, 31, 64, 11, 60, 42, 57, 55, 16, 79, 34, 82, 94, 36, 89, 26, 39, 94, 47, 72, 30, 72, 3, 73, 18, 37, 51, 75, 83, 94, 57, 37, 10, 62, 62, 13]\n"
     ]
    }
   ],
   "source": [
    "def flatten_deep_list(arr):\n",
    "    if not isinstance(arr, list):\n",
    "        return [arr]\n",
    "\n",
    "    result = []\n",
    "    for a in arr:\n",
    "        result.extend(flatten_deep_list(a))\n",
    "\n",
    "    return result\n",
    "\n",
    "print('Testing 01 ->',  flatten_deep_list([ [ [ [ [ [ ] ] ] ] ] ]))\n",
    "print('Testing 02 ->', flatten_deep_list([1, [2, 3, [4, 'bob', 6], [7]], [8, 9]]))\n",
    "print('Testing 03 ->', flatten_deep_list([[], [[[[89, 85, 72, 84, 65], [[88, 31, 64, 11, 60, 42, 57, 55], \n",
    "                                            16, [79, 34, 82], [], 94, 36, [89, 26, 39, 94, 47, 72, 30], \n",
    "                                            [72, 3, 73]], 18]], [[37, [51, 75, 83], 94, 57]], \n",
    "                                            [37, 10, 62, 62], [[], 13]]]))"
   ]
  }
 ],
 "metadata": {
  "kernelspec": {
   "display_name": "Python 3",
   "language": "python",
   "name": "python3"
  },
  "language_info": {
   "codemirror_mode": {
    "name": "ipython",
    "version": 3
   },
   "file_extension": ".py",
   "mimetype": "text/x-python",
   "name": "python",
   "nbconvert_exporter": "python",
   "pygments_lexer": "ipython3",
   "version": "3.8.10"
  }
 },
 "nbformat": 4,
 "nbformat_minor": 5
}
