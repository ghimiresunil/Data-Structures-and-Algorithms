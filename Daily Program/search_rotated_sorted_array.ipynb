{
 "cells": [
  {
   "cell_type": "code",
   "execution_count": 1,
   "id": "c88d53b6",
   "metadata": {},
   "outputs": [
    {
     "name": "stdout",
     "output_type": "stream",
     "text": [
      "4\n"
     ]
    }
   ],
   "source": [
    "def search_rotated_sorted_array(nums, target):\n",
    "    n = len(nums)\n",
    "    pivot = find_pivot(nums, 0, n) + 1\n",
    "    if pivot > n:\n",
    "        return -1\n",
    "\n",
    "    if nums[0] <= target:\n",
    "        return find_element(nums, 0, pivot - 1, target)\n",
    "    return find_element(nums, pivot, n - 1, target)\n",
    "\n",
    "def find_pivot(nums, left, right):\n",
    "    while left < right - 1:\n",
    "        mid = left + (right - left) // 2\n",
    "\n",
    "        if nums[left] < nums[mid]:\n",
    "            left = mid\n",
    "        else:\n",
    "            right = mid\n",
    "\n",
    "    return left\n",
    "\n",
    "def find_element(nums, left, right, target):\n",
    "    while left <= right:\n",
    "        mid = left + (right - left) // 2\n",
    "\n",
    "        if nums[mid] == target:\n",
    "            return mid\n",
    "\n",
    "        if nums[mid] < target:\n",
    "            left = mid + 1\n",
    "        else:\n",
    "            right = mid - 1\n",
    "\n",
    "    return -1\n",
    "\n",
    "print(search_rotated_sorted_array([4, 5, 6, 7, 0, 1, 2], 0))"
   ]
  },
  {
   "cell_type": "code",
   "execution_count": null,
   "id": "c0a51aa9",
   "metadata": {},
   "outputs": [],
   "source": []
  }
 ],
 "metadata": {
  "kernelspec": {
   "display_name": "Python 3",
   "language": "python",
   "name": "python3"
  },
  "language_info": {
   "codemirror_mode": {
    "name": "ipython",
    "version": 3
   },
   "file_extension": ".py",
   "mimetype": "text/x-python",
   "name": "python",
   "nbconvert_exporter": "python",
   "pygments_lexer": "ipython3",
   "version": "3.8.10"
  }
 },
 "nbformat": 4,
 "nbformat_minor": 5
}
