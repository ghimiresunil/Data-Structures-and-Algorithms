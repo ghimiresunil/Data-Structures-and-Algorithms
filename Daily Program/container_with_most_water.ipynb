{
 "cells": [
  {
   "cell_type": "code",
   "execution_count": 1,
   "id": "e5573ea3",
   "metadata": {},
   "outputs": [
    {
     "name": "stdout",
     "output_type": "stream",
     "text": [
      "49\n"
     ]
    }
   ],
   "source": [
    "def max_area(height):\n",
    "    l = 0\n",
    "    r = len(height) - 1\n",
    "    max_height = 0\n",
    "\n",
    "    while l < r:\n",
    "        left = height[l]\n",
    "        right = height[r]\n",
    "\n",
    "        current_height = min(left, right) * (r - l)\n",
    "        max_height = max(max_height, current_height)\n",
    "\n",
    "        # take the smaller side and search for a bigger height on that side\n",
    "        if left < right:\n",
    "            while (l < r) and (left >= height[l]):\n",
    "                l += 1\n",
    "        else:\n",
    "            while (l < r) and (right >= height[r]):\n",
    "                r -= 1\n",
    "\n",
    "    return max_height\n",
    "\n",
    "print(max_area([1, 8, 6, 12, 5, 10, 8, 9, 7]))"
   ]
  }
 ],
 "metadata": {
  "kernelspec": {
   "display_name": "Python 3",
   "language": "python",
   "name": "python3"
  },
  "language_info": {
   "codemirror_mode": {
    "name": "ipython",
    "version": 3
   },
   "file_extension": ".py",
   "mimetype": "text/x-python",
   "name": "python",
   "nbconvert_exporter": "python",
   "pygments_lexer": "ipython3",
   "version": "3.8.10"
  }
 },
 "nbformat": 4,
 "nbformat_minor": 5
}
