{
 "cells": [
  {
   "cell_type": "markdown",
   "id": "a98e4460",
   "metadata": {},
   "source": [
    "## Define Problem "
   ]
  },
  {
   "cell_type": "code",
   "execution_count": 1,
   "id": "a7b3be95",
   "metadata": {},
   "outputs": [
    {
     "name": "stdout",
     "output_type": "stream",
     "text": [
      "Defaulting to user installation because normal site-packages is not writeable\n",
      "Collecting mip==1.4.2\n",
      "  Downloading mip-1.4.2-py3-none-any.whl (12.8 MB)\n",
      "\u001b[K     |████████████████████████████████| 12.8 MB 3.6 MB/s eta 0:00:01\n",
      "\u001b[?25hRequirement already satisfied: cffi in /usr/local/lib/python3.8/dist-packages (from mip==1.4.2) (1.14.5)\n",
      "Requirement already satisfied: pycparser in /usr/local/lib/python3.8/dist-packages (from cffi->mip==1.4.2) (2.20)\n",
      "Installing collected packages: mip\n",
      "Successfully installed mip-1.4.2\n"
     ]
    }
   ],
   "source": [
    "!pip install mip==1.4.2 "
   ]
  },
  {
   "cell_type": "markdown",
   "id": "3acf04ab",
   "metadata": {},
   "source": [
    "## Import Libray"
   ]
  },
  {
   "cell_type": "code",
   "execution_count": 2,
   "id": "e2b98ac7",
   "metadata": {},
   "outputs": [
    {
     "name": "stdout",
     "output_type": "stream",
     "text": [
      "Using Python-MIP package version 1.4.2\n"
     ]
    }
   ],
   "source": [
    "from mip.model import *\n",
    "import pandas as pd"
   ]
  },
  {
   "cell_type": "code",
   "execution_count": 3,
   "id": "24b683d7",
   "metadata": {},
   "outputs": [],
   "source": [
    "c = [90, 120, 100, 80, 130]\n",
    "b = [45, 60, 50]\n",
    "a = [[10, 15, 12, 9, 13],[20, 15, 25, 15, 10],[15, 20, 20, 15, 10]]\n",
    "T, I = range(len(b)),range(len(c))\n",
    "names = ['A', 'B', 'C', 'D', 'E']"
   ]
  },
  {
   "cell_type": "markdown",
   "id": "a913160b",
   "metadata": {},
   "source": [
    "## Define Model  - MIP"
   ]
  },
  {
   "cell_type": "code",
   "execution_count": 4,
   "id": "896bcdfc",
   "metadata": {},
   "outputs": [],
   "source": [
    "m = Model(sense = MAXIMIZE,solver_name=CBC)"
   ]
  },
  {
   "cell_type": "markdown",
   "id": "86b90c51",
   "metadata": {},
   "source": [
    "## Add variables"
   ]
  },
  {
   "cell_type": "code",
   "execution_count": 5,
   "id": "4a4b2c29",
   "metadata": {},
   "outputs": [],
   "source": [
    "x = [[m.add_var(name = names[i], var_type=BINARY) for i in I] for t in T]"
   ]
  },
  {
   "cell_type": "markdown",
   "id": "65c4cedf",
   "metadata": {},
   "source": [
    "## Define objective "
   ]
  },
  {
   "cell_type": "code",
   "execution_count": 6,
   "id": "6f2a5127",
   "metadata": {},
   "outputs": [],
   "source": [
    "m.objective = maximize(xsum(c[i] * x[t][i] for i in I for t in T))"
   ]
  },
  {
   "cell_type": "markdown",
   "id": "0c5e6d36",
   "metadata": {},
   "source": [
    "## Add constraints"
   ]
  },
  {
   "cell_type": "code",
   "execution_count": 7,
   "id": "415c66dc",
   "metadata": {},
   "outputs": [],
   "source": [
    "for t in range(3):  \n",
    "    m += xsum(a[t][i] * x[t][i] for i in I) <= b[t]"
   ]
  },
  {
   "cell_type": "markdown",
   "id": "e919da4c",
   "metadata": {},
   "source": [
    "## Optimize"
   ]
  },
  {
   "cell_type": "code",
   "execution_count": 8,
   "id": "952b341e",
   "metadata": {},
   "outputs": [
    {
     "name": "stdout",
     "output_type": "stream",
     "text": [
      "optimal solution cost 1170.0 found\n"
     ]
    }
   ],
   "source": [
    "status = m.optimize() \n",
    "if status == OptimizationStatus.OPTIMAL:  \n",
    "     print('optimal solution cost {} found'.format(m.objective_value))"
   ]
  },
  {
   "cell_type": "markdown",
   "id": "6e844cc9",
   "metadata": {},
   "source": [
    "## Final Results"
   ]
  },
  {
   "cell_type": "code",
   "execution_count": 10,
   "id": "85637b20",
   "metadata": {},
   "outputs": [
    {
     "data": {
      "text/html": [
       "<div>\n",
       "<style scoped>\n",
       "    .dataframe tbody tr th:only-of-type {\n",
       "        vertical-align: middle;\n",
       "    }\n",
       "\n",
       "    .dataframe tbody tr th {\n",
       "        vertical-align: top;\n",
       "    }\n",
       "\n",
       "    .dataframe thead th {\n",
       "        text-align: right;\n",
       "    }\n",
       "</style>\n",
       "<table border=\"1\" class=\"dataframe\">\n",
       "  <thead>\n",
       "    <tr style=\"text-align: right;\">\n",
       "      <th></th>\n",
       "      <th>1</th>\n",
       "      <th>2</th>\n",
       "      <th>3</th>\n",
       "    </tr>\n",
       "  </thead>\n",
       "  <tbody>\n",
       "    <tr>\n",
       "      <th>A</th>\n",
       "      <td>1.0</td>\n",
       "      <td>1.0</td>\n",
       "      <td>0.0</td>\n",
       "    </tr>\n",
       "    <tr>\n",
       "      <th>B</th>\n",
       "      <td>0.0</td>\n",
       "      <td>1.0</td>\n",
       "      <td>1.0</td>\n",
       "    </tr>\n",
       "    <tr>\n",
       "      <th>C</th>\n",
       "      <td>1.0</td>\n",
       "      <td>0.0</td>\n",
       "      <td>1.0</td>\n",
       "    </tr>\n",
       "    <tr>\n",
       "      <th>D</th>\n",
       "      <td>1.0</td>\n",
       "      <td>1.0</td>\n",
       "      <td>0.0</td>\n",
       "    </tr>\n",
       "    <tr>\n",
       "      <th>E</th>\n",
       "      <td>1.0</td>\n",
       "      <td>1.0</td>\n",
       "      <td>1.0</td>\n",
       "    </tr>\n",
       "  </tbody>\n",
       "</table>\n",
       "</div>"
      ],
      "text/plain": [
       "     1    2    3\n",
       "A  1.0  1.0  0.0\n",
       "B  0.0  1.0  1.0\n",
       "C  1.0  0.0  1.0\n",
       "D  1.0  1.0  0.0\n",
       "E  1.0  1.0  1.0"
      ]
     },
     "execution_count": 10,
     "metadata": {},
     "output_type": "execute_result"
    }
   ],
   "source": [
    "results = {}\n",
    "for i in range(3):  \n",
    "     results[i+1] = [m.vars[j].x for j in range(5*i,5*i+5)]\n",
    "        \n",
    "result = pd.DataFrame(data = results, index = ['A','B','C','D','E'])\n",
    "result"
   ]
  }
 ],
 "metadata": {
  "kernelspec": {
   "display_name": "Python 3",
   "language": "python",
   "name": "python3"
  },
  "language_info": {
   "codemirror_mode": {
    "name": "ipython",
    "version": 3
   },
   "file_extension": ".py",
   "mimetype": "text/x-python",
   "name": "python",
   "nbconvert_exporter": "python",
   "pygments_lexer": "ipython3",
   "version": "3.8.5"
  }
 },
 "nbformat": 4,
 "nbformat_minor": 5
}
