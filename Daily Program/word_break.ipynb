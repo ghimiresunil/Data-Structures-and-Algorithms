{
 "cells": [
  {
   "cell_type": "code",
   "execution_count": 1,
   "id": "be09031d",
   "metadata": {},
   "outputs": [
    {
     "name": "stdout",
     "output_type": "stream",
     "text": [
      "Testing 01 -> ['the', 'quick', 'brown', 'fox']\n",
      "Testing 02 -> ['bed', 'bath', 'and', 'beyond']\n",
      "Testing 03 -> ['bed', 'bath', 'and', 'beyond']\n",
      "Testing 04 -> None\n",
      "Testing 05 -> ['314', '15926535897', '9323', '8462643383279']\n",
      "Testing 06 -> ['i', 'like', 'like', 'i', 'man', 'go', 'i', 'i', 'i']\n"
     ]
    }
   ],
   "source": [
    "from collections import deque\n",
    "\n",
    "def word_break(sentence, words):\n",
    "    all_words = set()\n",
    "    # create a set from all words\n",
    "    for i in range(len(words)):\n",
    "        all_words.add(words[i])\n",
    "\n",
    "    n = len(sentence)\n",
    "    i = 0\n",
    "    subsentence = ''\n",
    "    result = deque()\n",
    "    # go letter by letter and save the new letter in subsentence\n",
    "    while (i < n) or (len(subsentence) != 0):\n",
    "        # if there are no left letters in the sentence, then this combination is not valid\n",
    "        # remove the last word from the results and continue from that word\n",
    "        if i == n:\n",
    "            i -= len(subsentence)\n",
    "            # if there are no words in the result, then this string is not composed only from the given words\n",
    "            if len(result) == 0:\n",
    "                return None\n",
    "            subsentence = result[-1]\n",
    "            result.pop()\n",
    "        # add the new letter into subsentence and remove it from the sentence\n",
    "        subsentence += sentence[i]\n",
    "        i += 1\n",
    "        # check if the new word exist in the set\n",
    "        if subsentence in all_words:\n",
    "            result.append(subsentence)\n",
    "            subsentence = ''\n",
    "    return list(result)\n",
    "print('Testing 01 ->', word_break('thequickbrownfox', ['quick', 'brown', 'the', 'fox']))\n",
    "print('Testing 02 ->',word_break('bedbathandbeyond', ['bed', 'bath', 'bedbath', 'and', 'beyond']))\n",
    "print('Testing 03 ->',word_break('bedbathandbeyond', ['bed', 'and', 'bath', 'bedbath', \n",
    "                                                   'bathand', 'beyond', 'andbeyond']))\n",
    "print('Testing 04 ->',word_break('bedbathandbeyo', ['bed', 'bath', 'bedbath', 'bathand', 'beyond']))\n",
    "print('Testing 05 ->',word_break('3141592653589793238462643383279', ['314', '49', '9001', \n",
    "                                '15926535897', '14', '9323', '8462643383279', '4', '793']))\n",
    "print('Testing 06 ->',word_break('ilikelikeimangoiii', ['mobile', 'samsung', 'sam', \n",
    "                        'sung', 'man', 'mango', 'icecream', 'and', 'go', 'i', 'like', 'ice', 'cream']))"
   ]
  }
 ],
 "metadata": {
  "kernelspec": {
   "display_name": "Python 3",
   "language": "python",
   "name": "python3"
  },
  "language_info": {
   "codemirror_mode": {
    "name": "ipython",
    "version": 3
   },
   "file_extension": ".py",
   "mimetype": "text/x-python",
   "name": "python",
   "nbconvert_exporter": "python",
   "pygments_lexer": "ipython3",
   "version": "3.8.10"
  }
 },
 "nbformat": 4,
 "nbformat_minor": 5
}
