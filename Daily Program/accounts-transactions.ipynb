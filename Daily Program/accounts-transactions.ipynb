{
 "cells": [
  {
   "cell_type": "code",
   "execution_count": 3,
   "id": "1183f7c2",
   "metadata": {},
   "outputs": [],
   "source": [
    "from bisect import bisect_right\n",
    "\n",
    "class Account():\n",
    "    def __init__(self, account_id, ts, value):\n",
    "        self.account_id = account_id\n",
    "        self.timestamps = [ts]\n",
    "        self.balances = [value]\n",
    "        self.values = [value]\n",
    "\n",
    "class Accounts:\n",
    "    def __init__(self):\n",
    "        self.accounts = {}\n",
    "\n",
    "    def credit(self, account_id, ts, value):\n",
    "        if account_id not in self.accounts:\n",
    "            self.accounts.setdefault(\n",
    "                account_id, Account(account_id, ts, value))\n",
    "        else:\n",
    "            account = self.accounts[account_id]\n",
    "            account.timestamps.append(ts)\n",
    "            account.balances.append(account.balances[-1] + value)\n",
    "            account.values.append(value)\n",
    "\n",
    "    def debit(self, account_id, ts, value):\n",
    "        if account_id not in self.accounts:\n",
    "            self.accounts.setdefault(\n",
    "                account_id, Account(account_id, ts, -value))\n",
    "        else:\n",
    "            account = self.accounts[account_id]\n",
    "            account.timestamps.append(ts)\n",
    "            account.balances.append(account.balances[-1] - value)\n",
    "            account.values.append(-value)\n",
    "\n",
    "    def current(self, account_id):\n",
    "        if account_id not in self.accounts:\n",
    "            return None\n",
    "        account = self.accounts[account_id]\n",
    "        return account.balances[-1]\n",
    "\n",
    "    def balance_change(self, account_id, start_ts, end_ts):\n",
    "        if account_id not in self.accounts:\n",
    "            return None\n",
    "        account = self.accounts[account_id]\n",
    "        start_idx = bisect_right(account.timestamps, start_ts)\n",
    "        end_idx = bisect_right(account.timestamps, end_ts)\n",
    "\n",
    "        return account.balances[end_idx - 1] - account.balances[start_idx - 1]\n",
    "\n",
    "accounts = Accounts()\n",
    "accounts.credit(1, 1, 100)\n",
    "accounts.debit(1, 3, 50)\n",
    "accounts.credit(1, 5, 20)\n",
    "accounts.debit(1, 7, 10)"
   ]
  },
  {
   "cell_type": "code",
   "execution_count": 4,
   "id": "bafb544d",
   "metadata": {},
   "outputs": [
    {
     "name": "stdout",
     "output_type": "stream",
     "text": [
      "60\n",
      "-30\n",
      "20\n"
     ]
    }
   ],
   "source": [
    "print(accounts.current(1))\n",
    "print(accounts.balance_change(1, 2, 6))\n",
    "print(accounts.balance_change(1, 3, 5))"
   ]
  },
  {
   "cell_type": "code",
   "execution_count": null,
   "id": "c323907b",
   "metadata": {},
   "outputs": [],
   "source": []
  }
 ],
 "metadata": {
  "kernelspec": {
   "display_name": "Python 3",
   "language": "python",
   "name": "python3"
  },
  "language_info": {
   "codemirror_mode": {
    "name": "ipython",
    "version": 3
   },
   "file_extension": ".py",
   "mimetype": "text/x-python",
   "name": "python",
   "nbconvert_exporter": "python",
   "pygments_lexer": "ipython3",
   "version": "3.8.10"
  }
 },
 "nbformat": 4,
 "nbformat_minor": 5
}
