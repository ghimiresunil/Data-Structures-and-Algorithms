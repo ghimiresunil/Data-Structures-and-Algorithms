{
 "cells": [
  {
   "cell_type": "code",
   "execution_count": 1,
   "id": "f44be741",
   "metadata": {},
   "outputs": [
    {
     "name": "stdout",
     "output_type": "stream",
     "text": [
      "2\n"
     ]
    }
   ],
   "source": [
    "def interleaving_strings(A, B, C):\n",
    "    nA, nB, nC = len(A), len(B), len(C)\n",
    "    if nA + nB != nC:\n",
    "        return 0\n",
    "    \n",
    "    dp = [0 for j in range(nB + 1)]\n",
    "\n",
    "    # starting values\n",
    "    dp[0] = 1\n",
    "\n",
    "    for i in range(1, nB + 1):\n",
    "        if B[i - 1] == C[i - 1]:\n",
    "            dp[i] = dp[i - 1]\n",
    "    \n",
    "    # run dp\n",
    "    for i in range(1, nA + 1):\n",
    "        if A[i - 1] != C[i - 1]:\n",
    "            # reset the value\n",
    "            dp[0] = 0\n",
    "\n",
    "        for j in range(1, nB + 1):\n",
    "            if A[i - 1] != C[i + j - 1]:\n",
    "                # reset the value\n",
    "                dp[j] = 0\n",
    "            if B[j - 1] == C[i + j - 1]:\n",
    "                dp[j] += dp[j - 1]\n",
    "\n",
    "    return dp[nB]\n",
    "\n",
    "a, b, c = 'xy', 'xz', 'xxyz'\n",
    "print(interleaving_strings(a, b, c))"
   ]
  }
 ],
 "metadata": {
  "kernelspec": {
   "display_name": "Python 3",
   "language": "python",
   "name": "python3"
  },
  "language_info": {
   "codemirror_mode": {
    "name": "ipython",
    "version": 3
   },
   "file_extension": ".py",
   "mimetype": "text/x-python",
   "name": "python",
   "nbconvert_exporter": "python",
   "pygments_lexer": "ipython3",
   "version": "3.8.10"
  }
 },
 "nbformat": 4,
 "nbformat_minor": 5
}
