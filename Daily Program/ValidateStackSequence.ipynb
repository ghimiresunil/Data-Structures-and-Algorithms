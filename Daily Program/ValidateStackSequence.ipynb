{
 "cells": [
  {
   "cell_type": "code",
   "execution_count": 1,
   "id": "0be276e2",
   "metadata": {},
   "outputs": [],
   "source": [
    "def ValidateStackSequence(pushed, popped):\n",
    "    popped_idx = 0\n",
    "    stack = []\n",
    "    \n",
    "    for value in pushed:\n",
    "        stack.append(value)\n",
    "        \n",
    "        while stack and stack[-1] == popped[popped_idx] and popped_idx < len(popped):\n",
    "            stack.pop()\n",
    "            popped_idx += 1\n",
    "            \n",
    "    return popped_idx == len(popped)"
   ]
  },
  {
   "cell_type": "code",
   "execution_count": 2,
   "id": "9d5c7265",
   "metadata": {},
   "outputs": [
    {
     "data": {
      "text/plain": [
       "True"
      ]
     },
     "execution_count": 2,
     "metadata": {},
     "output_type": "execute_result"
    }
   ],
   "source": [
    "ValidateStackSequence([5, 6, 7, 8, 9], [9, 8, 7, 6, 5])"
   ]
  }
 ],
 "metadata": {
  "kernelspec": {
   "display_name": "Python 3",
   "language": "python",
   "name": "python3"
  },
  "language_info": {
   "codemirror_mode": {
    "name": "ipython",
    "version": 3
   },
   "file_extension": ".py",
   "mimetype": "text/x-python",
   "name": "python",
   "nbconvert_exporter": "python",
   "pygments_lexer": "ipython3",
   "version": "3.8.10"
  }
 },
 "nbformat": 4,
 "nbformat_minor": 5
}
