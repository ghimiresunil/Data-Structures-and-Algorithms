{
 "cells": [
  {
   "cell_type": "code",
   "execution_count": 1,
   "id": "d8891489",
   "metadata": {},
   "outputs": [],
   "source": [
    "class Autocomplete:\n",
    "    def __init__(self):\n",
    "        self.trie = {}\n",
    "\n",
    "    def get_words(self, start, temp, words):\n",
    "        if start['isWord']:\n",
    "            words.append((temp, start['isWord']))\n",
    "\n",
    "        for key, val in start.items():\n",
    "            if key != 'isWord':\n",
    "                self.get_words(val, temp + key, words)\n",
    "\n",
    "    def get(self, prefix):\n",
    "        current = self.trie\n",
    "        for char in prefix:\n",
    "            if char not in current:\n",
    "                return []\n",
    "            current = current[char]\n",
    "\n",
    "        words = []\n",
    "        self.get_words(current, prefix, words)\n",
    "        sorted_words = sorted(words, key=lambda x: x[1], reverse=True)\n",
    "        return sorted_words\n",
    "\n",
    "    def put(self, word):\n",
    "        current = self.trie\n",
    "        for char in word:\n",
    "            if char not in current:\n",
    "                current[char] = {'isWord': 0}\n",
    "            current = current[char]\n",
    "        current['isWord'] += 1\n",
    "\n",
    "\n",
    "autocomplete = Autocomplete()"
   ]
  },
  {
   "cell_type": "code",
   "execution_count": 2,
   "id": "8dac05d2",
   "metadata": {},
   "outputs": [
    {
     "name": "stdout",
     "output_type": "stream",
     "text": [
      "[('sunil', 3), ('suniel', 1), ('suneil', 1), ('suneel', 1)]\n"
     ]
    }
   ],
   "source": [
    "autocomplete.put('sunil')\n",
    "autocomplete.put('sunil')\n",
    "autocomplete.put('sunil')\n",
    "\n",
    "autocomplete.put('suniel')\n",
    "autocomplete.put('suneil')\n",
    "autocomplete.put('suneel')\n",
    "print(autocomplete.get('su'))"
   ]
  },
  {
   "cell_type": "code",
   "execution_count": null,
   "id": "b0397f23",
   "metadata": {},
   "outputs": [],
   "source": []
  }
 ],
 "metadata": {
  "kernelspec": {
   "display_name": "Python 3",
   "language": "python",
   "name": "python3"
  },
  "language_info": {
   "codemirror_mode": {
    "name": "ipython",
    "version": 3
   },
   "file_extension": ".py",
   "mimetype": "text/x-python",
   "name": "python",
   "nbconvert_exporter": "python",
   "pygments_lexer": "ipython3",
   "version": "3.8.10"
  }
 },
 "nbformat": 4,
 "nbformat_minor": 5
}
