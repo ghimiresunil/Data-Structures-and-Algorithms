{
 "cells": [
  {
   "cell_type": "code",
   "execution_count": 1,
   "id": "6bbe76a5",
   "metadata": {},
   "outputs": [
    {
     "name": "stdout",
     "output_type": "stream",
     "text": [
      "Testing 01 -> [1, 3, 3, 5, 7]\n",
      "Testing 02 -> [1, 3, 4, 5, 6, 7]\n",
      "Testing 03 -> [1, 3, 4, 6]\n",
      "Testing 04 -> [3, 4, 9, 10]\n"
     ]
    }
   ],
   "source": [
    "def abs_sort(array):\n",
    "    if not array:\n",
    "        return []\n",
    "\n",
    "    left_idx = 0\n",
    "    right_idx = len(array) - 1\n",
    "\n",
    "    result = [0] * len(array)\n",
    "    resultIdx = len(result) - 1\n",
    "\n",
    "    while left_idx <= right_idx:\n",
    "        if abs(array[left_idx]) > abs(array[right_idx]):\n",
    "            result[resultIdx] = abs(array[left_idx])\n",
    "            left_idx += 1\n",
    "        else:\n",
    "            result[resultIdx] = abs(array[right_idx])\n",
    "            right_idx -= 1\n",
    "\n",
    "        resultIdx -= 1\n",
    "\n",
    "    return result\n",
    "\n",
    "\n",
    "print('Testing 01 ->', abs_sort([-3, -1, 3, 5, 7]))\n",
    "print('Testing 02 ->', abs_sort([-6, -4, -1, 3, 5, 7]))\n",
    "print('Testing 03 ->', abs_sort([-6, -4, -3, -1]))\n",
    "print('Testing 04 ->', abs_sort([3, 4, 9, 10]))"
   ]
  }
 ],
 "metadata": {
  "kernelspec": {
   "display_name": "Python 3",
   "language": "python",
   "name": "python3"
  },
  "language_info": {
   "codemirror_mode": {
    "name": "ipython",
    "version": 3
   },
   "file_extension": ".py",
   "mimetype": "text/x-python",
   "name": "python",
   "nbconvert_exporter": "python",
   "pygments_lexer": "ipython3",
   "version": "3.8.10"
  }
 },
 "nbformat": 4,
 "nbformat_minor": 5
}
