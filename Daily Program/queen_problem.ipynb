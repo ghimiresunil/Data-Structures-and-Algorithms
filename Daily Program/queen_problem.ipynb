{
 "cells": [
  {
   "cell_type": "code",
   "execution_count": 1,
   "id": "69563cde",
   "metadata": {},
   "outputs": [],
   "source": [
    "def place_n_queens(n):\n",
    "    columns = [False for i in range(n)]\n",
    "    order = []\n",
    "\n",
    "    return backtracking(columns, order)\n",
    "\n",
    "def backtracking(columns, order):\n",
    "    # columns and order are references, no extra memory for those arrays (they are just pointers)\n",
    "    n = len(columns)\n",
    "\n",
    "    if len(order) == n:\n",
    "        return 1\n",
    "\n",
    "    total = 0\n",
    "\n",
    "    for i in range(n):\n",
    "        if (not columns[i]) and check_diagonals(order, i):\n",
    "            order.append(i)\n",
    "            columns[i] = True\n",
    "            total += backtracking(columns, order)\n",
    "            # return to the old state\n",
    "            columns[i] = False\n",
    "            del order[-1]\n",
    "\n",
    "    return total\n",
    "\n",
    "def check_diagonals(order, pos):\n",
    "    current_row = len(order)\n",
    "    for i in range(current_row):\n",
    "        if (i - order[i]) == (current_row - pos):\n",
    "            return False\n",
    "        if (i + order[i]) == (current_row + pos):\n",
    "            return False\n",
    "    return True"
   ]
  },
  {
   "cell_type": "code",
   "execution_count": 2,
   "id": "1299ecfd",
   "metadata": {},
   "outputs": [
    {
     "name": "stdout",
     "output_type": "stream",
     "text": [
      "Testing 01 -> 1\n",
      "Testing 02 -> 0\n",
      "Testing 03 -> 0\n",
      "Testing 04 -> 2\n",
      "Testing 05 -> 10\n",
      "Testing 06 -> 4\n",
      "Testing 07 -> 40\n",
      "Testing 08 -> 92\n",
      "Testing 09 -> 352\n",
      "Testing 10 -> 724\n"
     ]
    }
   ],
   "source": [
    "print('Testing 01 ->', place_n_queens(1))\n",
    "print('Testing 02 ->', place_n_queens(2))\n",
    "print('Testing 03 ->', place_n_queens(3))\n",
    "print('Testing 04 ->', place_n_queens(4))\n",
    "print('Testing 05 ->', place_n_queens(5))\n",
    "print('Testing 06 ->', place_n_queens(6))\n",
    "print('Testing 07 ->', place_n_queens(7))\n",
    "print('Testing 08 ->', place_n_queens(8))\n",
    "print('Testing 09 ->', place_n_queens(9))\n",
    "print('Testing 10 ->', place_n_queens(10))"
   ]
  },
  {
   "cell_type": "code",
   "execution_count": null,
   "id": "fd888097",
   "metadata": {},
   "outputs": [],
   "source": []
  }
 ],
 "metadata": {
  "kernelspec": {
   "display_name": "Python 3",
   "language": "python",
   "name": "python3"
  },
  "language_info": {
   "codemirror_mode": {
    "name": "ipython",
    "version": 3
   },
   "file_extension": ".py",
   "mimetype": "text/x-python",
   "name": "python",
   "nbconvert_exporter": "python",
   "pygments_lexer": "ipython3",
   "version": "3.8.10"
  }
 },
 "nbformat": 4,
 "nbformat_minor": 5
}
