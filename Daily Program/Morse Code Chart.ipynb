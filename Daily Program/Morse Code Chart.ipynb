{
 "cells": [
  {
   "cell_type": "code",
   "execution_count": 3,
   "id": "a71c2ac1",
   "metadata": {},
   "outputs": [
    {
     "name": "stdout",
     "output_type": "stream",
     "text": [
      ".--. -.-- - .... --- -. \n",
      "PYTHON \n"
     ]
    }
   ],
   "source": [
    "# Dictionary representing the morse code chart \n",
    "MORSE_CODE_DICT = { 'A':'.-', 'B':'-...', \n",
    "'C':'-.-.', 'D':'-..', 'E':'.', \n",
    "'F':'..-.', 'G':'--.', 'H':'....', \n",
    "'I':'..', 'J':'.---', 'K':'-.-', \n",
    "'L':'.-..', 'M':'--', 'N':'-.', \n",
    "'O':'---', 'P':'.--.', 'Q':'--.-', \n",
    "'R':'.-.', 'S':'...', 'T':'-', \n",
    "'U':'..-', 'V':'...-', 'W':'.--', \n",
    "'X':'-..-', 'Y':'-.--', 'Z':'--..', \n",
    "'1':'.----', '2':'..---', '3':'...--', \n",
    "'4':'....-', '5':'.....', '6':'-....', \n",
    "'7':'--...', '8':'---..', '9':'----.', \n",
    "'0':'-----', ', ':'--..--', '.':'.-.-.-', \n",
    "'?':'..--..', '/':'-..-.', '-':'-....-', \n",
    "'(':'-.--.', ')':'-.--.-'} \n",
    "\n",
    "def encrypt(message): \n",
    "    cipher = '' \n",
    "    for letter in message: \n",
    "        if letter != ' ':  \n",
    "            cipher += MORSE_CODE_DICT[letter] + ' '\n",
    "        else: \n",
    "            cipher += ' '\n",
    "    return cipher \n",
    "\n",
    "def decrypt(message): \n",
    "    message += ' '\n",
    "    decipher = '' \n",
    "    citext = '' \n",
    "    for letter in message: \n",
    "        if (letter != ' '): \n",
    "            i = 0\n",
    "            citext += letter\n",
    "        else: \n",
    "            i += 1\n",
    "            if i == 2 : \n",
    "                decipher += ' '\n",
    "            else: \n",
    "                decipher += list(MORSE_CODE_DICT.keys())[list(MORSE_CODE_DICT.values()).index(citext)] \n",
    "                citext = '' \n",
    "    return decipher \n",
    "\n",
    "def main(): \n",
    "    message = \"Python\"\n",
    "    result = encrypt(message.upper()) \n",
    "    print (result) \n",
    "    message = \".--. -.-- - .... --- -. \"\n",
    "    result = decrypt(message) \n",
    "    print(result) \n",
    "\n",
    "# Executes the main function \n",
    "if __name__ == '__main__': \n",
    "    main() "
   ]
  }
 ],
 "metadata": {
  "kernelspec": {
   "display_name": "Python 3",
   "language": "python",
   "name": "python3"
  },
  "language_info": {
   "codemirror_mode": {
    "name": "ipython",
    "version": 3
   },
   "file_extension": ".py",
   "mimetype": "text/x-python",
   "name": "python",
   "nbconvert_exporter": "python",
   "pygments_lexer": "ipython3",
   "version": "3.8.10"
  }
 },
 "nbformat": 4,
 "nbformat_minor": 5
}
