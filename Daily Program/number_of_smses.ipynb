{
 "cells": [
  {
   "cell_type": "code",
   "execution_count": 1,
   "id": "efba3c6a",
   "metadata": {},
   "outputs": [
    {
     "name": "stdout",
     "output_type": "stream",
     "text": [
      "Testing 01 -> 4\n",
      "Testing 02 -> 14\n",
      "Testing 03 -> 274\n"
     ]
    }
   ],
   "source": [
    "def num_smses(sequence):\n",
    "    n = len(sequence)\n",
    "    dp = [0] * n\n",
    "\n",
    "    # dp starting values, check all 4 possible starting combinations\n",
    "    for i in range(min(4, n)):\n",
    "        if is_valid(sequence[0 : i+1]):\n",
    "            dp[i] = 1\n",
    "\n",
    "    # run dp\n",
    "    for i in range(1, n):\n",
    "        # check all 4 possible combinations (x, xx, xxx, xxxx)\n",
    "        for j in range(min(4, i)):\n",
    "            if is_valid(sequence[i-j : i+1]):\n",
    "                dp[i] += dp[i - j - 1]\n",
    "\n",
    "    return dp[n - 1]\n",
    "\n",
    "def is_valid(sequence):\n",
    "    ch = sequence[0]\n",
    "\n",
    "    for c in sequence:\n",
    "        if c != ch:\n",
    "            return False\n",
    "\n",
    "    if sequence == '0':\n",
    "        return True\n",
    "\n",
    "    if ((ch >= '2' and ch <= '6') or ch == '8') and (len(sequence) < 4):\n",
    "        return True\n",
    "\n",
    "    if (ch == '7') or (ch == '9'):\n",
    "        return True\n",
    "\n",
    "    return False\n",
    "\n",
    "print('Testing 01 ->', num_smses('222'))\n",
    "print('Testing 02 ->', num_smses('2202222'))\n",
    "print('Testing 03 ->', num_smses('2222222222'))"
   ]
  }
 ],
 "metadata": {
  "kernelspec": {
   "display_name": "Python 3",
   "language": "python",
   "name": "python3"
  },
  "language_info": {
   "codemirror_mode": {
    "name": "ipython",
    "version": 3
   },
   "file_extension": ".py",
   "mimetype": "text/x-python",
   "name": "python",
   "nbconvert_exporter": "python",
   "pygments_lexer": "ipython3",
   "version": "3.8.10"
  }
 },
 "nbformat": 4,
 "nbformat_minor": 5
}
