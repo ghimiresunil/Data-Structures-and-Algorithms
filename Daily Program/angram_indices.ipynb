{
 "cells": [
  {
   "cell_type": "code",
   "execution_count": 1,
   "id": "f79fee2a",
   "metadata": {},
   "outputs": [],
   "source": [
    "class LettersCounter:\n",
    "    def __init__(self):\n",
    "        self.__letters = {}\n",
    "\n",
    "    def __create_if_not_exist(self, letter):\n",
    "        ''' helper method for creating a new field for the letter '''\n",
    "        if letter not in self.__letters:\n",
    "            self.__letters[letter] = 0\n",
    "\n",
    "    def __delete_if_zero_letters(self, letter):\n",
    "        ''' helper deleting a letter from dictionary '''\n",
    "        if self.__letters[letter] == 0:\n",
    "            del self.__letters[letter]\n",
    "\n",
    "    def add_letter(self, letter):\n",
    "        ''' increment the number of letters '''\n",
    "        self.__create_if_not_exist(letter)\n",
    "        self.__letters[letter] += 1\n",
    "        self.__delete_if_zero_letters(letter)\n",
    "\n",
    "    def remove_letter(self, letter):\n",
    "        ''' decrement the number of letters '''\n",
    "        self.__create_if_not_exist(letter)\n",
    "        self.__letters[letter] -= 1\n",
    "        self.__delete_if_zero_letters(letter)\n",
    "\n",
    "    def is_empty(self):\n",
    "        return len(self.__letters) == 0\n",
    "\n",
    "def anagram_indices(s, word):\n",
    "    n = len(s)\n",
    "    w = len(word)\n",
    "    res = []\n",
    "    if n < w:\n",
    "        return res\n",
    "    counter = LettersCounter()\n",
    "    # add all letters from the original word\n",
    "    for letter in word:\n",
    "        counter.add_letter(letter)\n",
    "    # remove first w letters from s string\n",
    "    for i in range(w):\n",
    "        counter.remove_letter(s[i])\n",
    "    if counter.is_empty():\n",
    "        res.append(0)\n",
    "    for i in range(w, n):\n",
    "        # continue with the same logic, add letters from front and remove from the current index\n",
    "        counter.add_letter(s[i - w])\n",
    "        counter.remove_letter(s[i])\n",
    "        if counter.is_empty():\n",
    "            # if there are 0 elements into dictionary, then the word is anagram\n",
    "            res.append(i - w + 1)\n",
    "    return res"
   ]
  },
  {
   "cell_type": "code",
   "execution_count": 2,
   "id": "e60fe19a",
   "metadata": {},
   "outputs": [
    {
     "name": "stdout",
     "output_type": "stream",
     "text": [
      "[3, 7]\n"
     ]
    }
   ],
   "source": [
    "print(anagram_indices('sunilghlinus', 'li'))"
   ]
  },
  {
   "cell_type": "code",
   "execution_count": null,
   "id": "1e88e0f4",
   "metadata": {},
   "outputs": [],
   "source": []
  }
 ],
 "metadata": {
  "kernelspec": {
   "display_name": "Python 3",
   "language": "python",
   "name": "python3"
  },
  "language_info": {
   "codemirror_mode": {
    "name": "ipython",
    "version": 3
   },
   "file_extension": ".py",
   "mimetype": "text/x-python",
   "name": "python",
   "nbconvert_exporter": "python",
   "pygments_lexer": "ipython3",
   "version": "3.8.10"
  }
 },
 "nbformat": 4,
 "nbformat_minor": 5
}
