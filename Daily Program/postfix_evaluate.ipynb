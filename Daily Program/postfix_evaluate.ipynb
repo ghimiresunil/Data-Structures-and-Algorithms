{
 "cells": [
  {
   "cell_type": "code",
   "execution_count": 1,
   "id": "a4e76a5c",
   "metadata": {},
   "outputs": [
    {
     "name": "stdout",
     "output_type": "stream",
     "text": [
      "Testing 01 -> 20\n",
      "Testing 02 -> 14\n",
      "Testing 03 -> 0\n",
      "Testing 04 -> 2\n",
      "Testing 05 -> 720\n"
     ]
    }
   ],
   "source": [
    "from collections import deque\n",
    "\n",
    "def postfix_evaluate(items):\n",
    "    stack = deque()\n",
    "    # lambda functions for all 4 operations\n",
    "    operations = {\n",
    "        '+': (lambda a, b: a + b),\n",
    "        '-': (lambda a, b: a - b),\n",
    "        '*': (lambda a, b: a * b),\n",
    "        '/': (lambda a, b: 0 if (b == 0) else (a // b))\n",
    "    }\n",
    "\n",
    "    for item in items:\n",
    "        # check if the item is a sign or a number\n",
    "        if item in operations:\n",
    "            b = stack.pop()\n",
    "            a = stack.pop()\n",
    "\n",
    "            result = operations[item](a, b)\n",
    "\n",
    "            stack.append(result)\n",
    "        else:\n",
    "            stack.append(item)\n",
    "\n",
    "    return stack.pop()\n",
    "\n",
    "print('Testing 01 ->', postfix_evaluate([2, 3, '+', 4, '*']))\n",
    "print('Testing 02 ->', postfix_evaluate([2, 3, 4, '*', '+']))\n",
    "print('Testing 03 ->', postfix_evaluate([3, 3, 3, '-', '/']))\n",
    "print('Testing 04 ->', postfix_evaluate([7, 3, '/']))\n",
    "print('Testing 05 ->', postfix_evaluate([1, 2, 3, 4, 5, 6, '*', '*', '*', '*', '*']))"
   ]
  }
 ],
 "metadata": {
  "kernelspec": {
   "display_name": "Python 3",
   "language": "python",
   "name": "python3"
  },
  "language_info": {
   "codemirror_mode": {
    "name": "ipython",
    "version": 3
   },
   "file_extension": ".py",
   "mimetype": "text/x-python",
   "name": "python",
   "nbconvert_exporter": "python",
   "pygments_lexer": "ipython3",
   "version": "3.8.10"
  }
 },
 "nbformat": 4,
 "nbformat_minor": 5
}
