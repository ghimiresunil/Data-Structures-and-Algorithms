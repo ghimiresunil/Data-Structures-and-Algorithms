{
 "cells": [
  {
   "cell_type": "code",
   "execution_count": 1,
   "id": "c4c47d8c",
   "metadata": {},
   "outputs": [],
   "source": [
    "import numpy as np\n",
    "def gaussian_partial(A, b):\n",
    "    n = A.shape[0]\n",
    "    C=np.c_[A,b.reshape(-1,1)]\n",
    "    flag = 0\n",
    "    #column\n",
    "    for i in range(n-1):\n",
    "        max_c, chosen_k  = 0, i\n",
    "        #find the pivot\n",
    "        for k in range(i, n):\n",
    "            if np.abs(C[k,i]) > max_c:\n",
    "                max_c = np.abs(C[k,i])\n",
    "                chosen_k = k\n",
    "        #Check if the pivot is zero\n",
    "        if max_c == 0:\n",
    "            flag = 1\n",
    "            break\n",
    "        #interchange rows\n",
    "        if chosen_k != i:\n",
    "            #Swap 2 rows\n",
    "            temp = C[i,:].copy()\n",
    "            C[i,:] = C[chosen_k,:]\n",
    "            C[chosen_k,:] = temp\n",
    "        #row\n",
    "        for j in range(i+1, n):\n",
    "            c = C[j,i]/C[i,i]\n",
    "            C[j,:] = C[j,:] - c*C[i,:]\n",
    "    return C, flag"
   ]
  },
  {
   "cell_type": "code",
   "execution_count": 2,
   "id": "cc43d352",
   "metadata": {},
   "outputs": [],
   "source": [
    "def backsubstitution(T):\n",
    "    flag=0\n",
    "    n = T.shape[0]\n",
    "    X = np.zeros((n))\n",
    "    if T[n-1,n-1] == 0:\n",
    "        flag = 1\n",
    "    else:\n",
    "        X[n-1] = T[n-1,n]/T[n-1,n-1] \n",
    "        for i in range(n-2,-1,-1):\n",
    "            #Sum in row i\n",
    "            s = 0\n",
    "            for j in range(i+1, n):\n",
    "                s += T[i,j]*X[j]\n",
    "            X[i] = (T[i,n] - s)/T[i,i]\n",
    "    \n",
    "    return X, flag"
   ]
  },
  {
   "cell_type": "code",
   "execution_count": 3,
   "id": "a2891ff9",
   "metadata": {},
   "outputs": [],
   "source": [
    "A = np.array([[2, 1, 5],\n",
    "            [4, 4, -4],\n",
    "            [1, 3, 1]])\n",
    "b= np.array([8,4,5])"
   ]
  },
  {
   "cell_type": "code",
   "execution_count": 4,
   "id": "17add3c9",
   "metadata": {},
   "outputs": [
    {
     "name": "stdout",
     "output_type": "stream",
     "text": [
      "Solution: [1. 1. 1.]\n"
     ]
    }
   ],
   "source": [
    "T, err = gaussian_partial(A,b)\n",
    "\n",
    "if err:\n",
    "    print('Not unique solution')\n",
    "else:\n",
    "    X, err = backsubstitution(T)\n",
    "    if err:\n",
    "        print('Not unique solution')\n",
    "    else:\n",
    "        print('Solution:', X)"
   ]
  },
  {
   "cell_type": "code",
   "execution_count": 5,
   "id": "2bede38c",
   "metadata": {},
   "outputs": [
    {
     "data": {
      "text/plain": [
       "array([1., 1., 1.])"
      ]
     },
     "execution_count": 5,
     "metadata": {},
     "output_type": "execute_result"
    }
   ],
   "source": [
    "np.linalg.solve(A,b)"
   ]
  }
 ],
 "metadata": {
  "kernelspec": {
   "display_name": "Python 3",
   "language": "python",
   "name": "python3"
  },
  "language_info": {
   "codemirror_mode": {
    "name": "ipython",
    "version": 3
   },
   "file_extension": ".py",
   "mimetype": "text/x-python",
   "name": "python",
   "nbconvert_exporter": "python",
   "pygments_lexer": "ipython3",
   "version": "3.8.10"
  }
 },
 "nbformat": 4,
 "nbformat_minor": 5
}
