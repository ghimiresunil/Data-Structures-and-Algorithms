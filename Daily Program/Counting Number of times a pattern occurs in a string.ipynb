{
 "cells": [
  {
   "cell_type": "code",
   "execution_count": 1,
   "id": "36280a24",
   "metadata": {},
   "outputs": [],
   "source": [
    "def get_pattern_count(input_string, pattern):\n",
    "    \n",
    "    result = [[0 for i in range(len(pattern)+1)] for j in range(len(input_string)+1)]\n",
    "    \n",
    "    for i in range(len(pattern)+1):\n",
    "        result[i][0] = 1\n",
    "    rows = len(input_string)\n",
    "    columns = len(pattern)\n",
    "    for i in range(1,rows+1):\n",
    "        for j in range(1,columns+1):\n",
    "            if input_string[i-1] == pattern[j-1]:\n",
    "                result[i][j] = result[i-1][j-1] + result[i-1][j]\n",
    "            else:\n",
    "                result[i][j] = result[i-1][j]\n",
    "    return result"
   ]
  },
  {
   "cell_type": "code",
   "execution_count": 2,
   "id": "8afdf650",
   "metadata": {},
   "outputs": [
    {
     "name": "stdout",
     "output_type": "stream",
     "text": [
      "Count: 7\n"
     ]
    }
   ],
   "source": [
    "import numpy as np\n",
    "input_string = 'subsequence'\n",
    "pattern = 'sue'\n",
    "result = get_pattern_count(input_string, pattern)\n",
    "print('Count: {}'.format(np.max(result)))"
   ]
  },
  {
   "cell_type": "code",
   "execution_count": null,
   "id": "2a83057b",
   "metadata": {},
   "outputs": [],
   "source": []
  }
 ],
 "metadata": {
  "kernelspec": {
   "display_name": "Python 3",
   "language": "python",
   "name": "python3"
  },
  "language_info": {
   "codemirror_mode": {
    "name": "ipython",
    "version": 3
   },
   "file_extension": ".py",
   "mimetype": "text/x-python",
   "name": "python",
   "nbconvert_exporter": "python",
   "pygments_lexer": "ipython3",
   "version": "3.8.10"
  }
 },
 "nbformat": 4,
 "nbformat_minor": 5
}
