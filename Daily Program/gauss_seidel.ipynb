{
 "cells": [
  {
   "cell_type": "code",
   "execution_count": 1,
   "id": "49e779c5",
   "metadata": {},
   "outputs": [],
   "source": [
    "import numpy as np\n",
    "\n",
    "def gauss_seidel(A, b, x0, tol, K): \n",
    "    x_iter = []\n",
    "    n = A.shape[0]\n",
    "    err = tol + 1\n",
    "    x = x0.copy()\n",
    "    k = 0\n",
    "    \n",
    "    while err > tol and k < K:\n",
    "        xold = x.copy()\n",
    "        x = gauss_iter(A, b, x)\n",
    "        print(x)\n",
    "        x_iter.append(x.copy())\n",
    "        err = np.linalg.norm(x-xold, np.inf)/np.linalg.norm(x, np.inf)\n",
    "        k = k+1\n",
    "    return x, x_iter\n",
    "\n",
    "def gauss_iter(A, b, x):\n",
    "    n = A.shape[0]\n",
    "    for i in range(n):\n",
    "        s = 0\n",
    "        for j in range(n):\n",
    "            if j!=i:\n",
    "                s += A[i,j]*x[j]\n",
    "        x[i] = (-s +b[i])/A[i,i]\n",
    "    return x"
   ]
  },
  {
   "cell_type": "code",
   "execution_count": 6,
   "id": "3e92b33d",
   "metadata": {},
   "outputs": [
    {
     "name": "stdout",
     "output_type": "stream",
     "text": [
      "[ 0.5        -0.33333333  0.38888889  1.18055556]\n",
      "[ 0.66666667 -0.83796296  0.86651235  1.0476466 ]\n",
      "[ 0.91898148 -0.96186986  0.84286051  0.9797802 ]\n",
      "[ 0.98093493 -0.98055002  0.82335174  0.96556292]\n",
      "[ 0.99027501 -0.98203765  0.81886058  0.96369632]\n",
      "[ 0.99101882 -0.98191132  0.81821733  0.96359867]\n",
      "[ 0.99095566 -0.98183666  0.81817233  0.96362475]\n",
      "[ 0.99095566 -0.98183666  0.81817233  0.96362475]\n",
      "[array([ 0.5       , -0.33333333,  0.38888889,  1.18055556]), array([ 0.66666667, -0.83796296,  0.86651235,  1.0476466 ]), array([ 0.91898148, -0.96186986,  0.84286051,  0.9797802 ]), array([ 0.98093493, -0.98055002,  0.82335174,  0.96556292]), array([ 0.99027501, -0.98203765,  0.81886058,  0.96369632]), array([ 0.99101882, -0.98191132,  0.81821733,  0.96359867]), array([ 0.99095566, -0.98183666,  0.81817233,  0.96362475])]\n"
     ]
    }
   ],
   "source": [
    "A = np. array([[2., 1., 0., 0.],\n",
    "               [2., 3.,  0., 1.],\n",
    "               [0., -1., -6., 2.],\n",
    "               [0., 2., 1., -4.]])\n",
    "\n",
    "b = np. array([1., 0., -2., -5 ]) \n",
    "\n",
    "tol = 0.0001\n",
    "K = 1000\n",
    "x0 = np.zeros(4)\n",
    "x, x_iter = gauss_seidel(A,b, x0, tol, K)\n",
    "print(x)\n",
    "print(x_iter)"
   ]
  },
  {
   "cell_type": "code",
   "execution_count": 3,
   "id": "43e34e92",
   "metadata": {},
   "outputs": [],
   "source": [
    "def error(x_iter):\n",
    "    errors = []\n",
    "    for i in range(len(x_iter)):\n",
    "        err = np.linalg.norm(A@x_iter[i] - b)\n",
    "        errors.append(err)\n",
    "    return errors"
   ]
  },
  {
   "cell_type": "code",
   "execution_count": 4,
   "id": "86c45bed",
   "metadata": {},
   "outputs": [],
   "source": [
    "err = error(x_iter)"
   ]
  },
  {
   "cell_type": "code",
   "execution_count": 5,
   "id": "7d9ddf25",
   "metadata": {},
   "outputs": [
    {
     "data": {
      "text/plain": [
       "[<matplotlib.lines.Line2D at 0x7fb54eaec3d0>]"
      ]
     },
     "execution_count": 5,
     "metadata": {},
     "output_type": "execute_result"
    },
    {
     "data": {
      "image/png": "[encoded data removed]",
      "text/plain": [
       "<Figure size 432x288 with 1 Axes>"
      ]
     },
     "metadata": {
      "needs_background": "light"
     },
     "output_type": "display_data"
    }
   ],
   "source": [
    "import matplotlib.pyplot as plt\n",
    "plt.plot([i for i in range(len(x_iter))],err)"
   ]
  }
 ],
 "metadata": {
  "kernelspec": {
   "display_name": "Python 3",
   "language": "python",
   "name": "python3"
  },
  "language_info": {
   "codemirror_mode": {
    "name": "ipython",
    "version": 3
   },
   "file_extension": ".py",
   "mimetype": "text/x-python",
   "name": "python",
   "nbconvert_exporter": "python",
   "pygments_lexer": "ipython3",
   "version": "3.8.10"
  }
 },
 "nbformat": 4,
 "nbformat_minor": 5
}
