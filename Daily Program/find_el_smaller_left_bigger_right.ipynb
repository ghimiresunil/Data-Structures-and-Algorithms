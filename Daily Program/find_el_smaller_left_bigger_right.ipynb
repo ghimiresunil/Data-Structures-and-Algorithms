{
 "cells": [
  {
   "cell_type": "code",
   "execution_count": 1,
   "id": "803ff038",
   "metadata": {},
   "outputs": [
    {
     "name": "stdout",
     "output_type": "stream",
     "text": [
      "Testing 01 -> 4\n",
      "Testing 02 -> -1\n"
     ]
    }
   ],
   "source": [
    "import math\n",
    "\n",
    "def find_element_smaller_left_bigger_right(arr):\n",
    "    n = len(arr)\n",
    "    left_maxs = [-math.inf]\n",
    "    right_min = math.inf\n",
    "\n",
    "    # find all mins from the front\n",
    "    for i in range(n - 1):\n",
    "        left_maxs.append(max(left_maxs[-1], arr[i]))\n",
    "\n",
    "    for i in range(n - 1, -1, -1):\n",
    "        # check if all left are smaller\n",
    "        # and all right are bigger\n",
    "        if (left_maxs[i] < arr[i]) and (right_min > arr[i]):\n",
    "            return i\n",
    "\n",
    "        # don't need a separate for loop for this as mins\n",
    "        right_min = min(right_min, arr[i])\n",
    "\n",
    "    return -1\n",
    "\n",
    "print('Testing 01 ->', find_element_smaller_left_bigger_right([5, 1, 4, 3, 6, 8, 10, 7, 9]))\n",
    "print('Testing 02 ->', find_element_smaller_left_bigger_right([5, 1, 4, 4]))"
   ]
  }
 ],
 "metadata": {
  "kernelspec": {
   "display_name": "Python 3",
   "language": "python",
   "name": "python3"
  },
  "language_info": {
   "codemirror_mode": {
    "name": "ipython",
    "version": 3
   },
   "file_extension": ".py",
   "mimetype": "text/x-python",
   "name": "python",
   "nbconvert_exporter": "python",
   "pygments_lexer": "ipython3",
   "version": "3.8.5"
  }
 },
 "nbformat": 4,
 "nbformat_minor": 5
}
