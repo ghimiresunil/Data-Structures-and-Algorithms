{
 "cells": [
  {
   "cell_type": "code",
   "execution_count": 1,
   "id": "37ac1164",
   "metadata": {},
   "outputs": [
    {
     "name": "stdout",
     "output_type": "stream",
     "text": [
      "Testing 01 -> [1, 6, 5, 8, 25]\n",
      "Testing 02 -> [5, 3, 2, 0, 7, -3, 15]\n",
      "Testing 03 -> [-3, 3, 9, 10]\n",
      "Testing 04 -> [1, 5, 4, 30, 7]\n"
     ]
    }
   ],
   "source": [
    "def reverseDivFive(array):\n",
    "    left = 0 \n",
    "    right = len(array) - 1 \n",
    "    \n",
    "    while left < right:\n",
    "        if array[left] % 5 != 0:\n",
    "            left += 1\n",
    "        elif array[right] %5 != 0:\n",
    "            right -= 1 \n",
    "        else:\n",
    "            array[left], array[right] = array[right], array[left]\n",
    "            left += 1\n",
    "            right -= 1\n",
    "    return array\n",
    "\n",
    "print('Testing 01 ->', reverseDivFive([1, 6, 25, 8, 5]))\n",
    "print('Testing 02 ->', reverseDivFive([15, 3, 2, 0, 7, -3, 5]))\n",
    "print('Testing 03 ->', reverseDivFive([-3, 3, 9, 10]))\n",
    "print('Testing 04 ->', reverseDivFive([1, 30, 4, 5, 7]))"
   ]
  }
 ],
 "metadata": {
  "kernelspec": {
   "display_name": "Python 3",
   "language": "python",
   "name": "python3"
  },
  "language_info": {
   "codemirror_mode": {
    "name": "ipython",
    "version": 3
   },
   "file_extension": ".py",
   "mimetype": "text/x-python",
   "name": "python",
   "nbconvert_exporter": "python",
   "pygments_lexer": "ipython3",
   "version": "3.8.10"
  }
 },
 "nbformat": 4,
 "nbformat_minor": 5
}
