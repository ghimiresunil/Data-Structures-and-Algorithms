{
 "cells": [
  {
   "cell_type": "code",
   "execution_count": 1,
   "id": "26e0d5db",
   "metadata": {},
   "outputs": [],
   "source": [
    "from iteration_utilities import deepflatten\n",
    "def find_largest_plus(input_matrix):\n",
    "    rows = len(input_matrix)\n",
    "    columns = len(input_matrix[0])\n",
    "    \n",
    "    left = [[0 for i in range(columns)] for j in range(rows)]\n",
    "    right = [[0 for i in range(columns)] for j in range(rows)]\n",
    "    bottom = [[0 for i in range(columns)] for j in range(rows)]\n",
    "    top = [[0 for i in range(columns)] for j in range(rows)]\n",
    "    #Initialisation\n",
    "    for i in range(columns):\n",
    "        # first row\n",
    "        top[0][i] = input_matrix[0][i]\n",
    "        # last row\n",
    "        bottom[rows-1][i] = input_matrix[rows-1][i]\n",
    "        # first column\n",
    "        left[i][0] = input_matrix[i][0]\n",
    "        # Last column\n",
    "        right[i][rows-1] = input_matrix[i][rows-1]\n",
    "    # Filling all cells of the matrix\n",
    "    for i in range(rows):\n",
    "        for j in range(1,columns):\n",
    "            if input_matrix[i][j] == 1:\n",
    "                # Look at previous column\n",
    "                left[i][j] = left[i][j-1] + 1\n",
    "    \n",
    "            if input_matrix[j][i] == 1:\n",
    "            # Look at previous row\n",
    "                top[j][i] = top[j-1][i] + 1\n",
    "                \n",
    "            if input_matrix[rows-1-j][i] == 1:\n",
    "                # Look at the previous row from bottom\n",
    "                bottom[rows-1-j][i] = bottom[rows-j][i] + 1\n",
    "            \n",
    "            if input_matrix[i][columns-1-j] == 1:\n",
    "                right[i][columns-1-j] = right[i][columns-j] + 1\n",
    "            \n",
    "    res = max([min(idx) for idx in zip(list(deepflatten(left)), list(deepflatten(right)) , \n",
    "                                       list(deepflatten(bottom)), list(deepflatten(bottom)))])\n",
    "    return res"
   ]
  },
  {
   "cell_type": "code",
   "execution_count": 2,
   "id": "8a1084d0",
   "metadata": {},
   "outputs": [],
   "source": [
    "input_matrix = [[ 1, 0, 1, 1, 1, 1, 0, 1, 1, 1 ],\n",
    "            [ 1, 0, 1, 0, 1, 1, 1, 0, 1, 1 ],\n",
    "            [ 1, 1, 1, 0, 1, 1, 0, 1, 0, 1 ],\n",
    "            [ 0, 0, 0, 0, 1, 0, 0, 1, 0, 0 ],\n",
    "            [ 1, 1, 1, 0, 1, 1, 1, 1, 1, 1 ],\n",
    "            [ 1, 1, 1, 1, 1, 1, 1, 1, 1, 0 ],\n",
    "            [ 1, 0, 0, 0, 1, 0, 0, 1, 0, 1 ],\n",
    "            [ 1, 0, 1, 1, 1, 1, 0, 0, 1, 1 ],\n",
    "            [ 1, 1, 0, 0, 1, 0, 1, 0, 0, 1 ],\n",
    "            [ 1, 0, 1, 1, 1, 1, 0, 1, 0, 0 ]]\n",
    "result = find_largest_plus(input_matrix)\n",
    "final_result = (result-1)*4+1"
   ]
  },
  {
   "cell_type": "code",
   "execution_count": 3,
   "id": "728e45fe",
   "metadata": {},
   "outputs": [
    {
     "name": "stdout",
     "output_type": "stream",
     "text": [
      "17\n"
     ]
    }
   ],
   "source": [
    "print(final_result)"
   ]
  },
  {
   "cell_type": "code",
   "execution_count": null,
   "id": "ea0414b4",
   "metadata": {},
   "outputs": [],
   "source": []
  }
 ],
 "metadata": {
  "kernelspec": {
   "display_name": "Python 3",
   "language": "python",
   "name": "python3"
  },
  "language_info": {
   "codemirror_mode": {
    "name": "ipython",
    "version": 3
   },
   "file_extension": ".py",
   "mimetype": "text/x-python",
   "name": "python",
   "nbconvert_exporter": "python",
   "pygments_lexer": "ipython3",
   "version": "3.8.10"
  }
 },
 "nbformat": 4,
 "nbformat_minor": 5
}
