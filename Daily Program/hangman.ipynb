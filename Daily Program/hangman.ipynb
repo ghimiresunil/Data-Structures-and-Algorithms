{
 "cells": [
  {
   "cell_type": "code",
   "execution_count": 3,
   "id": "d3894d59",
   "metadata": {},
   "outputs": [
    {
     "name": "stdout",
     "output_type": "stream",
     "text": [
      "***** Hangman ****\n",
      "\n",
      "_____\n",
      "Enter a letter: l\n",
      "____l\n",
      "Enter a letter: h\n",
      "____l\n",
      "Enter a letter: s\n",
      "____l\n",
      "Enter a letter: u\n",
      "_u__l\n",
      "Enter a letter: n\n",
      "_un_l\n",
      "Enter a letter: i\n",
      "_unil\n",
      "Enter a letter: S\n",
      "Sunil\n",
      "Congrats, you've won!\n"
     ]
    }
   ],
   "source": [
    "import re\n",
    "\n",
    "def greeting():\n",
    "    print(\"***** Hangman ****\\n\")\n",
    "\n",
    "def get_word():\n",
    "    return 'Sunil'\n",
    "\n",
    "def generate_string(word, letters):\n",
    "    string = []\n",
    "    for l in word:\n",
    "        if l in letters:\n",
    "            string.append(l)\n",
    "        else:\n",
    "            string.append('_')\n",
    "    return ''.join(string)\n",
    "\n",
    "def has_won(word, letters):\n",
    "    for l in word:\n",
    "        if l not in letters:\n",
    "            return False\n",
    "\n",
    "    return True\n",
    "\n",
    "def is_valid(letter, letters):\n",
    "    regex = r\"[a-zA-Z]\"\n",
    "    if not re.search(regex, letter):\n",
    "        return False\n",
    "\n",
    "    if letter in letters:\n",
    "        return False\n",
    "    return True\n",
    "\n",
    "def main():\n",
    "    greeting()\n",
    "    word = get_word()\n",
    "    letters = set()\n",
    "    while True:\n",
    "        print(generate_string(word, letters))\n",
    "\n",
    "        if has_won(word, letters):\n",
    "            print(\"Congrats, you've won!\")\n",
    "            return\n",
    "\n",
    "        letter = input(\"Enter a letter: \")\n",
    "\n",
    "        if not is_valid(letter, letters):\n",
    "            print (\"You've already selected that letter\")\n",
    "\n",
    "        letters.add(letter)\n",
    "\n",
    "main()"
   ]
  }
 ],
 "metadata": {
  "kernelspec": {
   "display_name": "Python 3",
   "language": "python",
   "name": "python3"
  },
  "language_info": {
   "codemirror_mode": {
    "name": "ipython",
    "version": 3
   },
   "file_extension": ".py",
   "mimetype": "text/x-python",
   "name": "python",
   "nbconvert_exporter": "python",
   "pygments_lexer": "ipython3",
   "version": "3.8.10"
  }
 },
 "nbformat": 4,
 "nbformat_minor": 5
}
