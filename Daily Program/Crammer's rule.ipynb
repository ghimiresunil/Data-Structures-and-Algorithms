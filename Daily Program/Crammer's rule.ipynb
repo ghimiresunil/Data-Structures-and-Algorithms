{
 "cells": [
  {
   "cell_type": "code",
   "execution_count": 1,
   "id": "755026a0",
   "metadata": {},
   "outputs": [],
   "source": [
    "import numpy as np "
   ]
  },
  {
   "cell_type": "code",
   "execution_count": 12,
   "id": "f750f2e4",
   "metadata": {},
   "outputs": [],
   "source": [
    "def find_det(A, total = 0):\n",
    "    dim = A.shape[0]\n",
    "    \n",
    "    if dim == 2:\n",
    "        det = A[0,0]*A[1,1] - A[1,0]*A[0,1]\n",
    "        return det\n",
    "    else:\n",
    "        A1 = A.copy()\n",
    "        A1 = np.delete(A1,0,0) # delete the first row\n",
    "        cols =  A.shape[1]\n",
    "        \n",
    "        for i in range(cols):\n",
    "         # delete the column corresponding to the position of the element traversed\n",
    "\n",
    "            A2 = np.delete(A1,i,1)\n",
    "            total += (-1)**i + A[0,i] * find_det(A2)\n",
    "        return total\n",
    "    "
   ]
  },
  {
   "cell_type": "code",
   "execution_count": 13,
   "id": "305743dd",
   "metadata": {},
   "outputs": [],
   "source": [
    "def crammer(A, b):\n",
    "    \n",
    "    n = A.shape[0]\n",
    "    X = np.zeros((n))\n",
    "    \n",
    "    D = find_det(A)\n",
    "    \n",
    "    for i in range(n):\n",
    "        \n",
    "        Ai = A.copy()\n",
    "        Ai[:,i] = b\n",
    "        \n",
    "        Di = find_det(Ai)\n",
    "        \n",
    "        X[i] = Di/D\n",
    "    \n",
    "    return X"
   ]
  },
  {
   "cell_type": "code",
   "execution_count": 14,
   "id": "7dbbc744",
   "metadata": {},
   "outputs": [
    {
     "name": "stdout",
     "output_type": "stream",
     "text": [
      "[[ 1  1  0  3]\n",
      " [ 2  1 -1  1]\n",
      " [ 3 -1 -1  2]\n",
      " [-1  2  3 -1]]\n",
      "[ 4  1 -3  4]\n"
     ]
    }
   ],
   "source": [
    "A = np.array([[1,1,0,3],\n",
    "            [2,1,-1,1],\n",
    "            [3,-1,-1,2],\n",
    "            [-1,2,3,-1]])\n",
    "\n",
    "b = np.array([4,1,-3,4])\n",
    "\n",
    "print(A)\n",
    "print(b)"
   ]
  },
  {
   "cell_type": "code",
   "execution_count": 15,
   "id": "fb5d2fb7",
   "metadata": {},
   "outputs": [
    {
     "data": {
      "text/plain": [
       "array([-5.25, -8.5 , 11.75,  5.25])"
      ]
     },
     "execution_count": 15,
     "metadata": {},
     "output_type": "execute_result"
    }
   ],
   "source": [
    "crammer(A, b)"
   ]
  },
  {
   "cell_type": "code",
   "execution_count": 16,
   "id": "593280a6",
   "metadata": {},
   "outputs": [
    {
     "data": {
      "text/plain": [
       "array([-1.00000000e+00,  2.00000000e+00, -7.40148683e-17,  1.00000000e+00])"
      ]
     },
     "execution_count": 16,
     "metadata": {},
     "output_type": "execute_result"
    }
   ],
   "source": [
    "np.linalg.solve(A,b)"
   ]
  }
 ],
 "metadata": {
  "kernelspec": {
   "display_name": "Python 3",
   "language": "python",
   "name": "python3"
  },
  "language_info": {
   "codemirror_mode": {
    "name": "ipython",
    "version": 3
   },
   "file_extension": ".py",
   "mimetype": "text/x-python",
   "name": "python",
   "nbconvert_exporter": "python",
   "pygments_lexer": "ipython3",
   "version": "3.8.10"
  }
 },
 "nbformat": 4,
 "nbformat_minor": 5
}
