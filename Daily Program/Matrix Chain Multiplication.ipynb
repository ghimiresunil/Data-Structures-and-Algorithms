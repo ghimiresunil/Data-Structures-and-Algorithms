{
 "cells": [
  {
   "cell_type": "code",
   "execution_count": 1,
   "id": "037951fd",
   "metadata": {},
   "outputs": [],
   "source": [
    "def matrix_chain_multiplication(dimensions):\n",
    "    \n",
    "    # If dimensions is a list having values 10,30, 5, 50\n",
    "    # this implies, there are matrices of dimensions 10*30, 30*5,5*50\n",
    "    dim_len = len(dimensions)\n",
    "    result = [[float('inf') for i in range(dim_len)] for j in range(dim_len)]\n",
    "    for i in range(dim_len):\n",
    "        result[i][i] = 0\n",
    "    for length in range(1,dim_len):\n",
    "        for i in range(1,dim_len-length):\n",
    "            j = i+length\n",
    "            min_val = result[i][j]\n",
    "            for k in range(i,j):\n",
    "                current = result[i][k]+ result[k+1][j]+dimensions[i-1]*dimensions[k]*dimensions[j]\n",
    "                if current < min_val:\n",
    "                    min_val = current\n",
    "            result[i][j] = min_val\n",
    "    return result"
   ]
  },
  {
   "cell_type": "code",
   "execution_count": 2,
   "id": "b7881074",
   "metadata": {},
   "outputs": [
    {
     "name": "stdout",
     "output_type": "stream",
     "text": [
      "4500\n"
     ]
    }
   ],
   "source": [
    "input = [10,30,5,60]\n",
    "print(matrix_chain_multiplication(input)[1][len(input)-1])"
   ]
  }
 ],
 "metadata": {
  "kernelspec": {
   "display_name": "Python 3",
   "language": "python",
   "name": "python3"
  },
  "language_info": {
   "codemirror_mode": {
    "name": "ipython",
    "version": 3
   },
   "file_extension": ".py",
   "mimetype": "text/x-python",
   "name": "python",
   "nbconvert_exporter": "python",
   "pygments_lexer": "ipython3",
   "version": "3.8.10"
  }
 },
 "nbformat": 4,
 "nbformat_minor": 5
}
