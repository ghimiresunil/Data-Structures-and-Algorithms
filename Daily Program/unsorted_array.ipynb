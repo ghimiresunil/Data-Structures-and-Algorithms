{
 "cells": [
  {
   "cell_type": "code",
   "execution_count": 4,
   "id": "4cec42f3",
   "metadata": {},
   "outputs": [],
   "source": [
    "def findunSortedSubArray(nums):\n",
    "    left_index = 0\n",
    "    right_index = len(nums) - 1\n",
    "    \n",
    "    max = float('-inf')\n",
    "    min = float('inf')\n",
    "    \n",
    "    left = 0\n",
    "    right = -1\n",
    "    \n",
    "    while right_index >= 0:\n",
    "        #when we find number greater than previous number \n",
    "        \n",
    "        if nums[left_index] >= max:\n",
    "            max = nums[left_index]\n",
    "        else:\n",
    "            right = left_index\n",
    "            \n",
    "        # when we find the number less than previous one\n",
    "        \n",
    "        if nums[right_index] <= min:\n",
    "            min = nums[left_index]\n",
    "        else:\n",
    "            left = right_index\n",
    "            \n",
    "        left_index += 1 \n",
    "        right_index -= 1 \n",
    "    \n",
    "    return right - left +  1"
   ]
  },
  {
   "cell_type": "code",
   "execution_count": 5,
   "id": "8b3d2d96",
   "metadata": {},
   "outputs": [
    {
     "data": {
      "text/plain": [
       "4"
      ]
     },
     "execution_count": 5,
     "metadata": {},
     "output_type": "execute_result"
    }
   ],
   "source": [
    "findunSortedSubArray([8, 6, 15, 9, 10, 4])"
   ]
  },
  {
   "cell_type": "code",
   "execution_count": null,
   "id": "81021f21",
   "metadata": {},
   "outputs": [],
   "source": []
  }
 ],
 "metadata": {
  "kernelspec": {
   "display_name": "Python 3",
   "language": "python",
   "name": "python3"
  },
  "language_info": {
   "codemirror_mode": {
    "name": "ipython",
    "version": 3
   },
   "file_extension": ".py",
   "mimetype": "text/x-python",
   "name": "python",
   "nbconvert_exporter": "python",
   "pygments_lexer": "ipython3",
   "version": "3.8.10"
  }
 },
 "nbformat": 4,
 "nbformat_minor": 5
}
