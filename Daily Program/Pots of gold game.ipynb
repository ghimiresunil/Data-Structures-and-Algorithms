{
 "cells": [
  {
   "cell_type": "code",
   "execution_count": 1,
   "id": "28ae9839",
   "metadata": {},
   "outputs": [],
   "source": [
    "def find_strategy_to_win(coins):\n",
    "    num_coins = len(coins)\n",
    "    if num_coins == 1:\n",
    "        return coins[0]\n",
    "    if num_coins == 2:\n",
    "        return max(coins[0], coins[1])\n",
    "    \n",
    "    dp_table = [[0 for i in range(num_coins)] for j in range(num_coins)]\n",
    "    for i in range(num_coins):\n",
    "        j = 0\n",
    "        k = i\n",
    "        while k <num_coins:\n",
    "            first_val = min(dp_table[j+2][k] if j+2 <= k else 0, dp_table[j+1][k-1] if j+1<=k-1 else 0)\n",
    "            second_val = min(dp_table[j+1][k-1] if j+1 <= k-1 else 0, dp_table[j][k-2] if j <= k-2 else 0) \n",
    "            dp_table[j][k] = max(coins[j] +first_val, coins[k]+ second_val)\n",
    "            j += 1\n",
    "            k += 1\n",
    "    return dp_table"
   ]
  },
  {
   "cell_type": "code",
   "execution_count": 2,
   "id": "c675588f",
   "metadata": {},
   "outputs": [
    {
     "name": "stdout",
     "output_type": "stream",
     "text": [
      "9\n"
     ]
    }
   ],
   "source": [
    "coins = [4,6,2,3]\n",
    "final_table = find_strategy_to_win(coins)\n",
    "print(final_table[0][len(coins)-1])"
   ]
  }
 ],
 "metadata": {
  "kernelspec": {
   "display_name": "Python 3",
   "language": "python",
   "name": "python3"
  },
  "language_info": {
   "codemirror_mode": {
    "name": "ipython",
    "version": 3
   },
   "file_extension": ".py",
   "mimetype": "text/x-python",
   "name": "python",
   "nbconvert_exporter": "python",
   "pygments_lexer": "ipython3",
   "version": "3.8.10"
  }
 },
 "nbformat": 4,
 "nbformat_minor": 5
}
