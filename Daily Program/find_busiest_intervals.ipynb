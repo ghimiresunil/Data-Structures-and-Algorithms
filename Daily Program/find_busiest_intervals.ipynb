{
 "cells": [
  {
   "cell_type": "code",
   "execution_count": 1,
   "id": "ec48091e",
   "metadata": {},
   "outputs": [
    {
     "name": "stdout",
     "output_type": "stream",
     "text": [
      "Testing 01 -> (60, 75)\n",
      "Testing 02 -> (5, 5)\n"
     ]
    }
   ],
   "source": [
    "def find_busiest_interval(arriving, leaving):\n",
    "    arriving.sort()\n",
    "    leaving.sort()\n",
    "    \n",
    "    n = len(arriving)\n",
    "    i, j = 0, 0\n",
    "    start, end = 0, 0\n",
    "    overlapping = 0\n",
    "    max_overlapping = 0\n",
    "    \n",
    "    # both arrays have same number of elements\n",
    "    # but the biggest time is from the leaving array\n",
    "    # because of that I'm sure that 'i' will reach the end before 'j'\n",
    "    \n",
    "    while i<n:\n",
    "        if arriving[i] <= leaving[j]:\n",
    "            overlapping += 1\n",
    "            if max_overlapping <= overlapping:\n",
    "                max_overlapping = overlapping\n",
    "                \n",
    "                # save the start time if max overlapping\n",
    "                start = arriving[i]\n",
    "            \n",
    "            i += 1\n",
    "        \n",
    "        else:\n",
    "            if max_overlapping == overlapping:\n",
    "            # save the exit time if max_overlappingabs\n",
    "                end = leaving[j]\n",
    "            overlapping -= 1\n",
    "            j += 1\n",
    "            \n",
    "        # check again this to close the result interval because 'i' is completed and not 'j'\n",
    "    if max_overlapping == overlapping:\n",
    "        end = leaving[j]\n",
    "\n",
    "    # return start and end or max_overlapping\n",
    "    return (start, end)\n",
    "\n",
    "print('Testing 01 ->', find_busiest_interval([30, 0, 60], [75, 50, 150]))\n",
    "print('Testing 02 ->', find_busiest_interval([1, 2, 10, 5, 5], [4, 5, 12, 9, 12]))"
   ]
  }
 ],
 "metadata": {
  "kernelspec": {
   "display_name": "Python 3",
   "language": "python",
   "name": "python3"
  },
  "language_info": {
   "codemirror_mode": {
    "name": "ipython",
    "version": 3
   },
   "file_extension": ".py",
   "mimetype": "text/x-python",
   "name": "python",
   "nbconvert_exporter": "python",
   "pygments_lexer": "ipython3",
   "version": "3.8.5"
  }
 },
 "nbformat": 4,
 "nbformat_minor": 5
}
