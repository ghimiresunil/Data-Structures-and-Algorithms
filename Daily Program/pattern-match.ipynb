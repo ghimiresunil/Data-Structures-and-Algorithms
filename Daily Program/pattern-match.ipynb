{
 "cells": [
  {
   "cell_type": "code",
   "execution_count": 1,
   "id": "8514b4e1",
   "metadata": {},
   "outputs": [
    {
     "name": "stdout",
     "output_type": "stream",
     "text": [
      "False\n"
     ]
    }
   ],
   "source": [
    "def pattern_match(words, code):\n",
    "    words_list = words.split(' ')\n",
    "    code_list = list(code)\n",
    "    if (len(words_list) != len(code_list)):\n",
    "        return False\n",
    "\n",
    "    char_map = {}\n",
    "    word_map = set()\n",
    "    for word, char in zip(words_list, code_list):\n",
    "        if char in char_map:\n",
    "            if char_map[char] != word:\n",
    "                return False\n",
    "        elif word in word_map:\n",
    "            return False\n",
    "        else:\n",
    "            char_map[char] = word\n",
    "            word_map.add(word)\n",
    "\n",
    "    return True\n",
    "\n",
    "if __name__ == \"__main__\":\n",
    "    words = 'Sunil (Linus) Ghimire | In pursuit of knowledge'\n",
    "    code = 'Linus'\n",
    "    print(pattern_match(words, code))"
   ]
  }
 ],
 "metadata": {
  "kernelspec": {
   "display_name": "Python 3",
   "language": "python",
   "name": "python3"
  },
  "language_info": {
   "codemirror_mode": {
    "name": "ipython",
    "version": 3
   },
   "file_extension": ".py",
   "mimetype": "text/x-python",
   "name": "python",
   "nbconvert_exporter": "python",
   "pygments_lexer": "ipython3",
   "version": "3.8.10"
  }
 },
 "nbformat": 4,
 "nbformat_minor": 5
}
