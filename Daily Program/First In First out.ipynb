{
 "cells": [
  {
   "cell_type": "code",
   "execution_count": 1,
   "id": "c118acc1",
   "metadata": {},
   "outputs": [
    {
     "name": "stdout",
     "output_type": "stream",
     "text": [
      "None ->\n",
      "123456789012345 -> \n",
      "1111111 -> \n",
      "12345 -> \n",
      "a1234567 -> \n",
      "1234567 -> 1 2 3 4 5 6 7\n",
      "15342615 -> 1 5 3 4 2 6 15, 15 3 4 2 6 1 5\n",
      "1234567 -> 1 2 3 4 5 6 7\n",
      "2345678 -> 2 3 4 5 6 7 8\n",
      "569815571556 -> \n",
      "4938532894754 -> 49 38 53 28 9 47 54\n",
      "1234567 -> 1 2 3 4 5 6 7\n",
      "472844278465445 -> \n"
     ]
    }
   ],
   "source": [
    "def lotto_picks_util(nums, idx, remaining, seen):\n",
    "    if idx >= len(nums):\n",
    "        if remaining == 0:\n",
    "            return [[]]\n",
    "        else:\n",
    "            return []\n",
    "    elif remaining == 1 and idx == len(nums) - 1:\n",
    "        if int(nums[idx]) > 0:\n",
    "            return [[nums[idx]]]\n",
    "        else:\n",
    "            return []\n",
    "    elif int(nums[idx]) == 0 or len(nums) - idx > 2 * remaining:\n",
    "        return []\n",
    "    picks = []\n",
    "    for i in range(1, 3):\n",
    "        if int(nums[idx:idx + i]) < 60 and nums[idx:idx + i] not in seen:\n",
    "            seen.add(nums[idx:idx + i])\n",
    "            for pick in lotto_picks_util(nums, idx + i, remaining - 1, seen):\n",
    "                picks.append([nums[idx:idx + i]] + pick)\n",
    "            seen.remove(nums[idx:idx + i])\n",
    "    return picks\n",
    "\n",
    "def print_lotto_picks(nums, ans):\n",
    "    if not nums:\n",
    "        print('{} ->'.format('None'))\n",
    "    for num, picks in zip(nums, ans):\n",
    "        result = ''\n",
    "        for idx, pick in enumerate(picks):\n",
    "            if idx > 0:\n",
    "                result += ', '\n",
    "            result += ' '.join(pick)\n",
    "        print('{} -> {}'.format(num, result))\n",
    "    print\n",
    "\n",
    "def lotto_picks(nums):\n",
    "    ans = []\n",
    "    for num in nums:\n",
    "        if not num.isdigit():\n",
    "            ans.append([])\n",
    "        else:\n",
    "            seen = set()\n",
    "            ans.append(lotto_picks_util(num, 0, 7, seen))\n",
    "    return ans\n",
    "\n",
    "if __name__ == \"__main__\":\n",
    "    # Test empty input\n",
    "    print_lotto_picks([], lotto_picks([]))\n",
    "    # Test no picks for input\n",
    "    print_lotto_picks(['123456789012345'], lotto_picks(['123456789012345']))\n",
    "    # Test duplicate numbers in input\n",
    "    print_lotto_picks(['1111111'], lotto_picks(['1111111']))\n",
    "    # Test input took short for lotto_picks\n",
    "    print_lotto_picks(['12345'], lotto_picks(['12345']))\n",
    "    # Test invaliud input\n",
    "    print_lotto_picks(['a1234567'], lotto_picks(['a1234567']))\n",
    "    # Test one pick for input\n",
    "    print_lotto_picks(['1234567'], lotto_picks(['1234567']))\n",
    "    # Test multiple options for input\n",
    "    print_lotto_picks(['15342615'], lotto_picks(['15342615']))\n",
    "    # Test multiple inputs\n",
    "    print_lotto_picks(['1234567', '2345678'], lotto_picks(['1234567', '2345678']))\n",
    "    # Test inputs given in question\n",
    "    input = ['569815571556', '4938532894754', '1234567', '472844278465445']\n",
    "    print_lotto_picks(input, lotto_picks(input))"
   ]
  }
 ],
 "metadata": {
  "kernelspec": {
   "display_name": "Python 3",
   "language": "python",
   "name": "python3"
  },
  "language_info": {
   "codemirror_mode": {
    "name": "ipython",
    "version": 3
   },
   "file_extension": ".py",
   "mimetype": "text/x-python",
   "name": "python",
   "nbconvert_exporter": "python",
   "pygments_lexer": "ipython3",
   "version": "3.8.10"
  }
 },
 "nbformat": 4,
 "nbformat_minor": 5
}
