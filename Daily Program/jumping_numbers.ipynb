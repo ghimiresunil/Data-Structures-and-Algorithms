{
 "cells": [
  {
   "cell_type": "code",
   "execution_count": 1,
   "id": "d01b1c17",
   "metadata": {},
   "outputs": [
    {
     "name": "stdout",
     "output_type": "stream",
     "text": [
      "Testing 01 -> [1, 10, 12, 2, 3, 4, 5, 6, 7, 8, 9]\n",
      "Testing 01 -> [1, 10, 12, 2, 21, 23, 3, 32, 34, 4, 43, 45, 5, 6, 7, 8, 9]\n",
      "Testing 02 -> [1, 10, 12, 2, 21, 23, 3, 32, 34, 4, 43, 45, 5, 54, 56, 6, 65, 67, 7, 76, 78, 8, 87, 89, 9, 98]\n"
     ]
    }
   ],
   "source": [
    "def jumping_numbers(x):\n",
    "    result = []\n",
    "\n",
    "    # take all 9 possible starting combinations\n",
    "    for i in range(1, 10):\n",
    "        jumping_num(i, x, result)\n",
    "\n",
    "    return result\n",
    "\n",
    "def jumping_num(num, x, result):\n",
    "    if num > x:\n",
    "        return\n",
    "\n",
    "    result.append(num)\n",
    "\n",
    "    last_digit = num % 10\n",
    "    next_num = num * 10\n",
    "\n",
    "    # decrease the last digit by one\n",
    "    if last_digit != 0:\n",
    "        jumping_num(next_num + last_digit - 1, x, result)\n",
    "\n",
    "    # increase the last digit by one\n",
    "    if last_digit != 9:\n",
    "        jumping_num(next_num + last_digit + 1, x, result)\n",
    "\n",
    "print('Testing 01 ->', jumping_numbers(20))\n",
    "print('Testing 01 ->', jumping_numbers(50))\n",
    "print('Testing 02 ->', jumping_numbers(100))"
   ]
  }
 ],
 "metadata": {
  "kernelspec": {
   "display_name": "Python 3",
   "language": "python",
   "name": "python3"
  },
  "language_info": {
   "codemirror_mode": {
    "name": "ipython",
    "version": 3
   },
   "file_extension": ".py",
   "mimetype": "text/x-python",
   "name": "python",
   "nbconvert_exporter": "python",
   "pygments_lexer": "ipython3",
   "version": "3.8.10"
  }
 },
 "nbformat": 4,
 "nbformat_minor": 5
}
