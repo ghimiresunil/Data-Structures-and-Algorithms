{
 "cells": [
  {
   "cell_type": "code",
   "execution_count": 1,
   "id": "66ee144c",
   "metadata": {},
   "outputs": [
    {
     "name": "stdout",
     "output_type": "stream",
     "text": [
      "Testing 01 -> ['R', 'R', 'R', 'G', 'G', 'B', 'B']\n",
      "Testing 02 -> ['R', 'R', 'G', 'G', 'B', 'B', 'B']\n"
     ]
    }
   ],
   "source": [
    "def sort_rgb_array(arr):\n",
    "    rgb = {\n",
    "        'R': 0,\n",
    "        'G': 0,\n",
    "        'B': 0\n",
    "    }\n",
    "\n",
    "    # count colors\n",
    "    for c in arr:\n",
    "        rgb[c] += 1\n",
    "\n",
    "    # adjust the intervals\n",
    "    rgb['G'] += rgb['R']\n",
    "    rgb['B'] += rgb['G']\n",
    "\n",
    "    # assign colors\n",
    "    for i in range(len(arr)):\n",
    "        if i < rgb['R']:\n",
    "            arr[i] = 'R'\n",
    "        elif i < rgb['G']:\n",
    "            arr[i] = 'G'\n",
    "        else:\n",
    "            arr[i] = 'B'\n",
    "\n",
    "    return arr\n",
    "\n",
    "print('Testing 01 ->', sort_rgb_array(['G', 'B', 'R', 'R', 'B', 'R', 'G']))\n",
    "print('Testing 02 ->', sort_rgb_array(['B', 'B', 'B', 'G', 'G', 'R', 'R']))"
   ]
  }
 ],
 "metadata": {
  "kernelspec": {
   "display_name": "Python 3",
   "language": "python",
   "name": "python3"
  },
  "language_info": {
   "codemirror_mode": {
    "name": "ipython",
    "version": 3
   },
   "file_extension": ".py",
   "mimetype": "text/x-python",
   "name": "python",
   "nbconvert_exporter": "python",
   "pygments_lexer": "ipython3",
   "version": "3.8.5"
  }
 },
 "nbformat": 4,
 "nbformat_minor": 5
}
