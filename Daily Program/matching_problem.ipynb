{
 "cells": [
  {
   "cell_type": "code",
   "execution_count": 1,
   "id": "32b6d871",
   "metadata": {},
   "outputs": [],
   "source": [
    "# !pip install pulp"
   ]
  },
  {
   "cell_type": "code",
   "execution_count": 2,
   "id": "81744897",
   "metadata": {},
   "outputs": [],
   "source": [
    "import pandas as pd\n",
    "import numpy as np\n",
    "import pulp\n",
    "import warnings\n",
    "warnings.filterwarnings('ignore')\n",
    "from pulp import *\n",
    "prob = LpProblem(\"Matching Employees\", LpMaximize)"
   ]
  },
  {
   "cell_type": "code",
   "execution_count": 3,
   "id": "7410d074",
   "metadata": {},
   "outputs": [
    {
     "data": {
      "text/plain": [
       "array([[0, 0, 3, 3, 7, 9, 3, 5],\n",
       "       [2, 0, 7, 6, 8, 8, 1, 6],\n",
       "       [7, 7, 0, 1, 5, 9, 8, 9],\n",
       "       [4, 3, 0, 0, 5, 0, 2, 3],\n",
       "       [8, 1, 3, 3, 0, 7, 0, 1],\n",
       "       [9, 9, 0, 4, 7, 0, 2, 7],\n",
       "       [2, 0, 0, 4, 5, 5, 0, 8],\n",
       "       [4, 1, 4, 9, 8, 1, 1, 0]])"
      ]
     },
     "execution_count": 3,
     "metadata": {},
     "output_type": "execute_result"
    }
   ],
   "source": [
    "np.random.seed(0)\n",
    "\n",
    "c = np.random.randint(0,10, (8,8))\n",
    "np.fill_diagonal(c,0)\n",
    "c"
   ]
  },
  {
   "cell_type": "code",
   "execution_count": 4,
   "id": "a0eef48b",
   "metadata": {},
   "outputs": [],
   "source": [
    "employees = range(8)\n",
    "group = 4"
   ]
  },
  {
   "cell_type": "code",
   "execution_count": 5,
   "id": "25d09232",
   "metadata": {},
   "outputs": [],
   "source": [
    "#Define the variables\n",
    "y = LpVariable.dicts(\"pair\", [(i,j) for i in employees for j in employees] ,cat='Binary')"
   ]
  },
  {
   "cell_type": "code",
   "execution_count": 6,
   "id": "36ee5b96",
   "metadata": {},
   "outputs": [
    {
     "data": {
      "text/html": [
       "<div>\n",
       "<style scoped>\n",
       "    .dataframe tbody tr th:only-of-type {\n",
       "        vertical-align: middle;\n",
       "    }\n",
       "\n",
       "    .dataframe tbody tr th {\n",
       "        vertical-align: top;\n",
       "    }\n",
       "\n",
       "    .dataframe thead th {\n",
       "        text-align: right;\n",
       "    }\n",
       "</style>\n",
       "<table border=\"1\" class=\"dataframe\">\n",
       "  <thead>\n",
       "    <tr style=\"text-align: right;\">\n",
       "      <th></th>\n",
       "      <th>Ben</th>\n",
       "      <th>Kate</th>\n",
       "      <th>Thinh</th>\n",
       "      <th>Jorge</th>\n",
       "      <th>Alfredo</th>\n",
       "      <th>Francisco</th>\n",
       "      <th>Olivia</th>\n",
       "      <th>Chris</th>\n",
       "    </tr>\n",
       "  </thead>\n",
       "  <tbody>\n",
       "    <tr>\n",
       "      <th>Ben</th>\n",
       "      <td>0</td>\n",
       "      <td>0</td>\n",
       "      <td>3</td>\n",
       "      <td>3</td>\n",
       "      <td>7</td>\n",
       "      <td>9</td>\n",
       "      <td>3</td>\n",
       "      <td>5</td>\n",
       "    </tr>\n",
       "    <tr>\n",
       "      <th>Kate</th>\n",
       "      <td>2</td>\n",
       "      <td>0</td>\n",
       "      <td>7</td>\n",
       "      <td>6</td>\n",
       "      <td>8</td>\n",
       "      <td>8</td>\n",
       "      <td>1</td>\n",
       "      <td>6</td>\n",
       "    </tr>\n",
       "    <tr>\n",
       "      <th>Thinh</th>\n",
       "      <td>7</td>\n",
       "      <td>7</td>\n",
       "      <td>0</td>\n",
       "      <td>1</td>\n",
       "      <td>5</td>\n",
       "      <td>9</td>\n",
       "      <td>8</td>\n",
       "      <td>9</td>\n",
       "    </tr>\n",
       "    <tr>\n",
       "      <th>Jorge</th>\n",
       "      <td>4</td>\n",
       "      <td>3</td>\n",
       "      <td>0</td>\n",
       "      <td>0</td>\n",
       "      <td>5</td>\n",
       "      <td>0</td>\n",
       "      <td>2</td>\n",
       "      <td>3</td>\n",
       "    </tr>\n",
       "    <tr>\n",
       "      <th>Alfredo</th>\n",
       "      <td>8</td>\n",
       "      <td>1</td>\n",
       "      <td>3</td>\n",
       "      <td>3</td>\n",
       "      <td>0</td>\n",
       "      <td>7</td>\n",
       "      <td>0</td>\n",
       "      <td>1</td>\n",
       "    </tr>\n",
       "    <tr>\n",
       "      <th>Francisco</th>\n",
       "      <td>9</td>\n",
       "      <td>9</td>\n",
       "      <td>0</td>\n",
       "      <td>4</td>\n",
       "      <td>7</td>\n",
       "      <td>0</td>\n",
       "      <td>2</td>\n",
       "      <td>7</td>\n",
       "    </tr>\n",
       "    <tr>\n",
       "      <th>Olivia</th>\n",
       "      <td>2</td>\n",
       "      <td>0</td>\n",
       "      <td>0</td>\n",
       "      <td>4</td>\n",
       "      <td>5</td>\n",
       "      <td>5</td>\n",
       "      <td>0</td>\n",
       "      <td>8</td>\n",
       "    </tr>\n",
       "    <tr>\n",
       "      <th>Chris</th>\n",
       "      <td>4</td>\n",
       "      <td>1</td>\n",
       "      <td>4</td>\n",
       "      <td>9</td>\n",
       "      <td>8</td>\n",
       "      <td>1</td>\n",
       "      <td>1</td>\n",
       "      <td>0</td>\n",
       "    </tr>\n",
       "  </tbody>\n",
       "</table>\n",
       "</div>"
      ],
      "text/plain": [
       "           Ben  Kate  Thinh  Jorge  Alfredo  Francisco  Olivia  Chris\n",
       "Ben          0     0      3      3        7          9       3      5\n",
       "Kate         2     0      7      6        8          8       1      6\n",
       "Thinh        7     7      0      1        5          9       8      9\n",
       "Jorge        4     3      0      0        5          0       2      3\n",
       "Alfredo      8     1      3      3        0          7       0      1\n",
       "Francisco    9     9      0      4        7          0       2      7\n",
       "Olivia       2     0      0      4        5          5       0      8\n",
       "Chris        4     1      4      9        8          1       1      0"
      ]
     },
     "execution_count": 6,
     "metadata": {},
     "output_type": "execute_result"
    }
   ],
   "source": [
    "names = ['Ben','Kate','Thinh','Jorge','Alfredo','Francisco','Olivia','Chris']\n",
    "match_info = pd.DataFrame(c, index=names, columns=names)\n",
    "match_info"
   ]
  },
  {
   "cell_type": "code",
   "execution_count": 7,
   "id": "d1e2387b",
   "metadata": {},
   "outputs": [],
   "source": [
    "prob += lpSum([(c[i][j] + c[j][i]) * y[(i,j)] for i in employees for j in employees])"
   ]
  },
  {
   "cell_type": "code",
   "execution_count": 8,
   "id": "722308d7",
   "metadata": {},
   "outputs": [],
   "source": [
    "for i in employees:\n",
    "    prob += lpSum(y[(i,j)] for j in employees) <= 1\n",
    "    prob += lpSum(y[(j,i)] for j in employees) <= 1\n",
    "    prob += lpSum(y[(i,j)] for j in employees)+ lpSum(y[(j,i)] for j in employees) <= 1\n",
    "prob += lpSum(y[(i,j)] for i in employees for j in employees) == 4\n",
    "prob.solve()"
   ]
  },
  {
   "cell_type": "code",
   "execution_count": 10,
   "id": "178af573",
   "metadata": {},
   "outputs": [
    {
     "name": "stdout",
     "output_type": "stream",
     "text": [
      "Finish matching!\n",
      "\n",
      "Ben and Alfredo with preference score 7 and 8. Total score: 15\n",
      "Kate and Francisco with preference score 8 and 9. Total score: 17\n",
      "Jorge and Chris with preference score 3 and 9. Total score: 12\n",
      "Olivia and Thinh with preference score 0 and 8. Total score: 8\n"
     ]
    }
   ],
   "source": [
    "print(\"Finish matching!\\n\")\n",
    "for i in employees:\n",
    "    for j in employees:\n",
    "        if y[(i,j)].varValue == 1:\n",
    "            print('{} and {} with preference score {} and {}. Total score: {}'.format(names[i],\n",
    "                                                                                      names[j],c[i,j],\n",
    "                                                                                      c[j,i],\n",
    "                                                                                      c[i,j] +c[j,i]))"
   ]
  },
  {
   "cell_type": "code",
   "execution_count": 11,
   "id": "0c542403",
   "metadata": {},
   "outputs": [
    {
     "data": {
      "text/plain": [
       "52.0"
      ]
     },
     "execution_count": 11,
     "metadata": {},
     "output_type": "execute_result"
    }
   ],
   "source": [
    "pulp.value(prob.objective)"
   ]
  },
  {
   "cell_type": "code",
   "execution_count": 12,
   "id": "6366f6ed",
   "metadata": {},
   "outputs": [
    {
     "data": {
      "text/plain": [
       "'Optimal'"
      ]
     },
     "execution_count": 12,
     "metadata": {},
     "output_type": "execute_result"
    }
   ],
   "source": [
    "pulp.LpStatus[prob.status]"
   ]
  }
 ],
 "metadata": {
  "kernelspec": {
   "display_name": "Python 3",
   "language": "python",
   "name": "python3"
  },
  "language_info": {
   "codemirror_mode": {
    "name": "ipython",
    "version": 3
   },
   "file_extension": ".py",
   "mimetype": "text/x-python",
   "name": "python",
   "nbconvert_exporter": "python",
   "pygments_lexer": "ipython3",
   "version": "3.8.10"
  }
 },
 "nbformat": 4,
 "nbformat_minor": 5
}
