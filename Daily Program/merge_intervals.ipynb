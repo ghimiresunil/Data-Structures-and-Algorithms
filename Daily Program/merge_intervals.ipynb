{
 "cells": [
  {
   "cell_type": "markdown",
   "id": "b735e128",
   "metadata": {},
   "source": [
    "### Merge Intervals"
   ]
  },
  {
   "cell_type": "raw",
   "id": "2c3f88f8",
   "metadata": {},
   "source": [
    "You are given an array of intervals.\n",
    "Each interval is defined as: (start, end). e.g. (2, 5)\n",
    "It represents all the integer numbers in the interval, including start and end. (in the example 2, 3, 4 and 5).\n",
    "Given the array of intervals find the smallest set of unique intervals that contain the same integer numbers, without overlapping.\n",
    "\n",
    "Input 01: [(2, 4), (5, 5), (6, 8)] \n",
    "Output 01: [(2, 8)] \n",
    "\n",
    "Input 02: [(4, 1), (9, 6), (8, 9)] \n",
    "Output 02: [(4, 1), (8, 9)] \n",
    "\n",
    "Input 03: [(1, 5), (2, 6)] \n",
    "Output 03: [(1, 6)] \n",
    "\n",
    "Sort the intervals (using the start), accessing order. After that just iterate the intervals\n",
    "and check if the current interval belongs to the last created interval.\n",
    "    \n",
    "    \n",
    "Time Complexity:  O(N LogN) \n",
    "Space Complexity: O(N)    "
   ]
  },
  {
   "cell_type": "code",
   "execution_count": 1,
   "id": "3e873a5b",
   "metadata": {},
   "outputs": [
    {
     "name": "stdout",
     "output_type": "stream",
     "text": [
      "Testing 01 -> [(2, 8)]\n",
      "Testing 02 -> [(4, 1), (8, 9)]\n",
      "Testing 03 -> [(1, 6)]\n"
     ]
    }
   ],
   "source": [
    "def merge_intervals(intervals):\n",
    "    n = len(intervals)\n",
    "    if n == 0:\n",
    "        return []\n",
    "\n",
    "    # sort the intervals\n",
    "    intervals.sort(key=lambda interval: interval[0])\n",
    "    mergedIntervals = []\n",
    "    mergedIntervals.append(intervals[0])\n",
    "\n",
    "    for i in range(1, n):\n",
    "        \n",
    "        # check if this interval belongs to the last created interval\n",
    "        if intervals[i][0] <= mergedIntervals[-1][1] + 1:\n",
    "           \n",
    "            # only the end can be changed (just copy start it's min, because the array is sorted)\n",
    "            mergedIntervals[-1] = (mergedIntervals[-1][0], max(mergedIntervals[-1][1], intervals[i][1]))\n",
    "        \n",
    "        else:\n",
    "            # create a new interval\n",
    "            mergedIntervals.append(intervals[i])\n",
    "\n",
    "    return mergedIntervals\n",
    "\n",
    "print('Testing 01 ->', merge_intervals([(2, 4), (5, 5), (6, 8)]))\n",
    "print('Testing 02 ->', merge_intervals([(4, 1), (9, 6), (8, 9)]))\n",
    "print('Testing 03 ->', merge_intervals([(1, 5), (2, 6)]))"
   ]
  },
  {
   "cell_type": "code",
   "execution_count": null,
   "id": "0b9220fa",
   "metadata": {},
   "outputs": [],
   "source": []
  }
 ],
 "metadata": {
  "kernelspec": {
   "display_name": "Python 3",
   "language": "python",
   "name": "python3"
  },
  "language_info": {
   "codemirror_mode": {
    "name": "ipython",
    "version": 3
   },
   "file_extension": ".py",
   "mimetype": "text/x-python",
   "name": "python",
   "nbconvert_exporter": "python",
   "pygments_lexer": "ipython3",
   "version": "3.8.5"
  }
 },
 "nbformat": 4,
 "nbformat_minor": 5
}
