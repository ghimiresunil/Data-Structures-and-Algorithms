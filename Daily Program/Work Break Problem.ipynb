{
 "cells": [
  {
   "cell_type": "code",
   "execution_count": 1,
   "id": "38823a7b",
   "metadata": {},
   "outputs": [],
   "source": [
    "def break_words_based_on_dict(input_s, dict_list):\n",
    "    if input_s is None or len(input_s) == 0:\n",
    "        return False\n",
    "    table =[False for i in range(len(input_s)+1)]\n",
    "    table[0] = True\n",
    "    for i in range(1,len(input_s)+1):\n",
    "        j = i-1\n",
    "        while(j >= 0):\n",
    "            if table[j] is True and (input_s[j:i] in dict_list):\n",
    "                table[i] = True\n",
    "            j = j-1            \n",
    "    return table"
   ]
  },
  {
   "cell_type": "code",
   "execution_count": 2,
   "id": "adfe7b69",
   "metadata": {},
   "outputs": [
    {
     "name": "stdout",
     "output_type": "stream",
     "text": [
      "Can the String be broken? Yes\n"
     ]
    }
   ],
   "source": [
    "input_s = 'Wordbreakproblem'\n",
    "result = break_words_based_on_dict(input_s,['this','th','b','is','famous','Word','break'\n",
    "                                                          'r','e','k','a','br','bre','brea','ak','problem'])\n",
    "print('Can the String be broken? '+'Yes' if result[len(input_s)] else 'No')"
   ]
  },
  {
   "cell_type": "code",
   "execution_count": null,
   "id": "b82c20af",
   "metadata": {},
   "outputs": [],
   "source": []
  }
 ],
 "metadata": {
  "kernelspec": {
   "display_name": "Python 3",
   "language": "python",
   "name": "python3"
  },
  "language_info": {
   "codemirror_mode": {
    "name": "ipython",
    "version": 3
   },
   "file_extension": ".py",
   "mimetype": "text/x-python",
   "name": "python",
   "nbconvert_exporter": "python",
   "pygments_lexer": "ipython3",
   "version": "3.8.10"
  }
 },
 "nbformat": 4,
 "nbformat_minor": 5
}
