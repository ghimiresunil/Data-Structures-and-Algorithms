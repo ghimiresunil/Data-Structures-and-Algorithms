{
 "cells": [
  {
   "cell_type": "code",
   "execution_count": 1,
   "id": "7cd6aa5f",
   "metadata": {},
   "outputs": [],
   "source": [
    "class Solution(object):\n",
    "   def numIslands(self, grid):\n",
    "      if len(grid) == 0:\n",
    "         return 0\n",
    "      n= len(grid)\n",
    "      m = len(grid[0])\n",
    "      ans = 0\n",
    "      for i in range(n):\n",
    "         for j in range(m):\n",
    "            if grid[i][j] == \"1\":\n",
    "               ans+=1\n",
    "            self.make_water(i,j,n,m,grid)\n",
    "      return ans\n",
    "   def make_water(self,i,j,n,m,grid):\n",
    "      if i<0 or j<0 or i>=n or j>=m:\n",
    "         return\n",
    "      if grid[i][j] == \"0\":\n",
    "         return\n",
    "      else:\n",
    "         grid[i][j]=\"0\"\n",
    "      self.make_water(i+1,j,n,m,grid)\n",
    "      self.make_water(i,j+1,n,m,grid)\n",
    "      self.make_water(i-1,j,n,m,grid)\n",
    "      self.make_water(i,j-1,n,m,grid)"
   ]
  },
  {
   "cell_type": "code",
   "execution_count": 2,
   "id": "e3db6a13",
   "metadata": {},
   "outputs": [],
   "source": [
    "islands = Solution()"
   ]
  },
  {
   "cell_type": "code",
   "execution_count": 3,
   "id": "12af2710",
   "metadata": {},
   "outputs": [
    {
     "name": "stdout",
     "output_type": "stream",
     "text": [
      "3\n"
     ]
    }
   ],
   "source": [
    "print(islands.numIslands([[\"1\",\"1\",\"0\",\"0\",\"0\"],[\"1\",\"1\",\"0\",\"0\",\"0\"],[\"0\",\"0\",\"1\",\"0\",\"0\"],\n",
    "[\"0\",\"0\",\"0\",\"1\",\"1\"]]))"
   ]
  },
  {
   "cell_type": "code",
   "execution_count": null,
   "id": "b8e03918",
   "metadata": {},
   "outputs": [],
   "source": []
  }
 ],
 "metadata": {
  "kernelspec": {
   "display_name": "Python 3",
   "language": "python",
   "name": "python3"
  },
  "language_info": {
   "codemirror_mode": {
    "name": "ipython",
    "version": 3
   },
   "file_extension": ".py",
   "mimetype": "text/x-python",
   "name": "python",
   "nbconvert_exporter": "python",
   "pygments_lexer": "ipython3",
   "version": "3.8.10"
  }
 },
 "nbformat": 4,
 "nbformat_minor": 5
}
