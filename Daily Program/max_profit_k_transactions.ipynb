{
 "cells": [
  {
   "cell_type": "code",
   "execution_count": 1,
   "id": "032c8a09",
   "metadata": {},
   "outputs": [
    {
     "name": "stdout",
     "output_type": "stream",
     "text": [
      "Testing 01 -> 9\n",
      "Testing 02 -> 93\n"
     ]
    }
   ],
   "source": [
    "import math\n",
    "\n",
    "def max_profit_with_k_transactions(prices, k):\n",
    "    days = len(prices)\n",
    "    if days < 2:\n",
    "        # not enough days for a transaction\n",
    "        return 0\n",
    "\n",
    "    # transaction = buy + sell (2 separate days)\n",
    "    # in a day you can sell and after that buy a share\n",
    "    # (according to this, can't exists more transactions than the number of the prices/days)\n",
    "    k = min(k, days)\n",
    "    # create space optimized dp matrix\n",
    "    dp = [[0 for j in range(days)] for i in range(2)]\n",
    "\n",
    "    for t in range(k):\n",
    "        max_prev = -math.inf\n",
    "\n",
    "        # compute which row is previous and which is the current one\n",
    "        prev_idx = (t - 1) % 2\n",
    "        curr_idx = t % 2\n",
    "\n",
    "        # the values in dp table for these days will be same\n",
    "        # just ignore them, don't update them (because those combinations were tried)\n",
    "        past_days = t\n",
    "        # only save the last one\n",
    "        dp[curr_idx][past_days] = dp[prev_idx][past_days]\n",
    "\n",
    "        for d in range(past_days + 1, days):\n",
    "            # first try to buy with the current price\n",
    "            max_prev = max(max_prev, dp[prev_idx][d - 1] - prices[d - 1])\n",
    "            # after that try to sell with the current price\n",
    "            dp[curr_idx][d] = max(dp[curr_idx][d - 1], max_prev + prices[d])\n",
    "\n",
    "    # return the last value from the last transaction\n",
    "    return dp[(k - 1) % 2][-1]\n",
    "\n",
    "print('Testing 01 ->', max_profit_with_k_transactions([1, 2, 3, 4, 5, 6, 7, 8, 9, 10], 10))\n",
    "print('Testing 02 ->', max_profit_with_k_transactions([5, 11, 3, 50, 60, 90], 2))"
   ]
  }
 ],
 "metadata": {
  "kernelspec": {
   "display_name": "Python 3",
   "language": "python",
   "name": "python3"
  },
  "language_info": {
   "codemirror_mode": {
    "name": "ipython",
    "version": 3
   },
   "file_extension": ".py",
   "mimetype": "text/x-python",
   "name": "python",
   "nbconvert_exporter": "python",
   "pygments_lexer": "ipython3",
   "version": "3.8.5"
  }
 },
 "nbformat": 4,
 "nbformat_minor": 5
}
