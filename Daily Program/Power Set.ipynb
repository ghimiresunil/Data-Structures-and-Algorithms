{
 "cells": [
  {
   "cell_type": "code",
   "execution_count": 1,
   "id": "1cd0ac4a",
   "metadata": {},
   "outputs": [
    {
     "name": "stdout",
     "output_type": "stream",
     "text": [
      "Testing 01 -> 1\n",
      "Testing 02 -> 2\n",
      "Testing 03 -> 4\n",
      "Testing 04 -> 8\n",
      "Testing 05 -> 16\n",
      "Testing 06 -> 32\n",
      "Testing 07 -> 1024\n",
      "Testing 08 -> 0.5\n",
      "Testing 09 -> 0.25\n",
      "Testing 10 -> 0.125\n",
      "Testing 11 -> 0.0625\n",
      "Testing 12 -> -8\n",
      "Testing 13 -> 16\n"
     ]
    }
   ],
   "source": [
    "def power(a, b):\n",
    "    if b < 0:\n",
    "        # negative power\n",
    "        return 1 / power_recursive(a, -b)\n",
    "    return power_recursive(a, b)\n",
    "\n",
    "def power_recursive(a, b):\n",
    "    if b == 0:\n",
    "        return 1\n",
    "\n",
    "    res = power_recursive(a, b // 2)\n",
    "    res *= res\n",
    "\n",
    "    if b % 2 == 1:\n",
    "        res *= a\n",
    "    return res\n",
    "\n",
    "print('Testing 01 ->', power(2, 0))\n",
    "print('Testing 02 ->', power(2, 1))\n",
    "print('Testing 03 ->', power(2, 2))\n",
    "print('Testing 04 ->', power(2, 3))\n",
    "print('Testing 05 ->', power(2, 4))\n",
    "print('Testing 06 ->', power(2, 5))\n",
    "print('Testing 07 ->', power(2, 10))\n",
    "print('Testing 08 ->', power(2, -1))\n",
    "print('Testing 09 ->', power(2, -2))\n",
    "print('Testing 10 ->', power(2, -3))\n",
    "print('Testing 11 ->', power(2, -4))\n",
    "print('Testing 12 ->', power(-2, 3))\n",
    "print('Testing 13 ->', power(-2, 4))"
   ]
  }
 ],
 "metadata": {
  "kernelspec": {
   "display_name": "Python 3",
   "language": "python",
   "name": "python3"
  },
  "language_info": {
   "codemirror_mode": {
    "name": "ipython",
    "version": 3
   },
   "file_extension": ".py",
   "mimetype": "text/x-python",
   "name": "python",
   "nbconvert_exporter": "python",
   "pygments_lexer": "ipython3",
   "version": "3.8.10"
  }
 },
 "nbformat": 4,
 "nbformat_minor": 5
}
